{
 "cells": [
  {
   "cell_type": "markdown",
   "metadata": {},
   "source": [
    "# Определение стоимости автомобилей"
   ]
  },
  {
   "cell_type": "markdown",
   "metadata": {},
   "source": [
    "Сервис по продаже автомобилей с пробегом «Не бит, не крашен» разрабатывает приложение для привлечения новых клиентов. В нём можно быстро узнать рыночную стоимость своего автомобиля. В вашем распоряжении исторические данные: технические характеристики, комплектации и цены автомобилей. Вам нужно построить модель для определения стоимости. \n",
    "\n",
    "Заказчику важны:\n",
    "\n",
    "- качество предсказания;\n",
    "- скорость предсказания;\n",
    "- время обучения."
   ]
  },
  {
   "cell_type": "markdown",
   "metadata": {},
   "source": [
    "В первую очередь необходимо изучить данные: проверить на правильность, рассмотреть пропуски и аномальные значения, удалить ненужные признаки. Далее для моделей приготовим выборки, протестируем три модели: линейная регрессия, случайный лес и LightGBM. Проанализируем время работы каждой из моделей и по заданным критериям выберем лучшую."
   ]
  },
  {
   "cell_type": "markdown",
   "metadata": {},
   "source": [
    "## Подготовка данных"
   ]
  },
  {
   "cell_type": "code",
   "execution_count": 51,
   "metadata": {},
   "outputs": [],
   "source": [
    "import pandas as pd\n",
    "import numpy as np\n",
    "from matplotlib import pyplot as plt\n",
    "import seaborn as sns\n",
    "from sklearn.linear_model import LinearRegression\n",
    "from sklearn.ensemble import RandomForestRegressor\n",
    "from sklearn.dummy import DummyRegressor\n",
    "from sklearn.model_selection import train_test_split\n",
    "from sklearn.preprocessing import StandardScaler\n",
    "from sklearn.metrics import mean_squared_error\n",
    "from sklearn.preprocessing import OrdinalEncoder\n",
    "from sklearn.tree import DecisionTreeRegressor\n",
    "from sklearn.ensemble import RandomForestRegressor\n",
    "import lightgbm as lgb\n",
    "from sklearn.model_selection import GridSearchCV\n",
    "from sklearn.impute import KNNImputer\n",
    "\n",
    "import warnings\n",
    "warnings.filterwarnings(\"ignore\")"
   ]
  },
  {
   "cell_type": "code",
   "execution_count": 52,
   "metadata": {},
   "outputs": [],
   "source": [
    "try:\n",
    "    data = pd.read_csv('/datasets/autos.csv')\n",
    "except: \n",
    "    data = pd.read_csv('C:/Users/klimatutti/Downloads/autos.csv')"
   ]
  },
  {
   "cell_type": "code",
   "execution_count": 53,
   "metadata": {},
   "outputs": [
    {
     "name": "stdout",
     "output_type": "stream",
     "text": [
      "<class 'pandas.core.frame.DataFrame'>\n",
      "RangeIndex: 354369 entries, 0 to 354368\n",
      "Data columns (total 16 columns):\n",
      " #   Column             Non-Null Count   Dtype \n",
      "---  ------             --------------   ----- \n",
      " 0   DateCrawled        354369 non-null  object\n",
      " 1   Price              354369 non-null  int64 \n",
      " 2   VehicleType        316879 non-null  object\n",
      " 3   RegistrationYear   354369 non-null  int64 \n",
      " 4   Gearbox            334536 non-null  object\n",
      " 5   Power              354369 non-null  int64 \n",
      " 6   Model              334664 non-null  object\n",
      " 7   Kilometer          354369 non-null  int64 \n",
      " 8   RegistrationMonth  354369 non-null  int64 \n",
      " 9   FuelType           321474 non-null  object\n",
      " 10  Brand              354369 non-null  object\n",
      " 11  Repaired           283215 non-null  object\n",
      " 12  DateCreated        354369 non-null  object\n",
      " 13  NumberOfPictures   354369 non-null  int64 \n",
      " 14  PostalCode         354369 non-null  int64 \n",
      " 15  LastSeen           354369 non-null  object\n",
      "dtypes: int64(7), object(9)\n",
      "memory usage: 43.3+ MB\n"
     ]
    }
   ],
   "source": [
    "data.info()"
   ]
  },
  {
   "cell_type": "markdown",
   "metadata": {},
   "source": [
    "**В датафрейме 354 368 строк и 16 столбцов. Во многих важных признаках есть большое количество пропусков, которые необходимо изучить. Названия колонок записаны некорректно**"
   ]
  },
  {
   "cell_type": "markdown",
   "metadata": {},
   "source": [
    "Переведем названия колонок в нижний регистр и между словами поставим подчеркивание."
   ]
  },
  {
   "cell_type": "code",
   "execution_count": 54,
   "metadata": {},
   "outputs": [],
   "source": [
    "data.columns = data.columns.str.replace(r\"([A-Z])\", r\" \\1\").str.lower().str.replace(' ', '_').str[1:]"
   ]
  },
  {
   "cell_type": "markdown",
   "metadata": {},
   "source": [
    "Ненужные признаки удалим."
   ]
  },
  {
   "cell_type": "code",
   "execution_count": 55,
   "metadata": {},
   "outputs": [],
   "source": [
    "data = data.drop(['number_of_pictures', 'postal_code', 'date_created', 'last_seen', 'registration_month', 'date_crawled'], axis=1)"
   ]
  },
  {
   "cell_type": "code",
   "execution_count": 56,
   "metadata": {},
   "outputs": [
    {
     "data": {
      "text/html": [
       "<div>\n",
       "<style scoped>\n",
       "    .dataframe tbody tr th:only-of-type {\n",
       "        vertical-align: middle;\n",
       "    }\n",
       "\n",
       "    .dataframe tbody tr th {\n",
       "        vertical-align: top;\n",
       "    }\n",
       "\n",
       "    .dataframe thead th {\n",
       "        text-align: right;\n",
       "    }\n",
       "</style>\n",
       "<table border=\"1\" class=\"dataframe\">\n",
       "  <thead>\n",
       "    <tr style=\"text-align: right;\">\n",
       "      <th></th>\n",
       "      <th>price</th>\n",
       "      <th>vehicle_type</th>\n",
       "      <th>registration_year</th>\n",
       "      <th>gearbox</th>\n",
       "      <th>power</th>\n",
       "      <th>model</th>\n",
       "      <th>kilometer</th>\n",
       "      <th>fuel_type</th>\n",
       "      <th>brand</th>\n",
       "      <th>repaired</th>\n",
       "    </tr>\n",
       "  </thead>\n",
       "  <tbody>\n",
       "    <tr>\n",
       "      <th>0</th>\n",
       "      <td>480</td>\n",
       "      <td>NaN</td>\n",
       "      <td>1993</td>\n",
       "      <td>manual</td>\n",
       "      <td>0</td>\n",
       "      <td>golf</td>\n",
       "      <td>150000</td>\n",
       "      <td>petrol</td>\n",
       "      <td>volkswagen</td>\n",
       "      <td>NaN</td>\n",
       "    </tr>\n",
       "    <tr>\n",
       "      <th>1</th>\n",
       "      <td>18300</td>\n",
       "      <td>coupe</td>\n",
       "      <td>2011</td>\n",
       "      <td>manual</td>\n",
       "      <td>190</td>\n",
       "      <td>NaN</td>\n",
       "      <td>125000</td>\n",
       "      <td>gasoline</td>\n",
       "      <td>audi</td>\n",
       "      <td>yes</td>\n",
       "    </tr>\n",
       "    <tr>\n",
       "      <th>2</th>\n",
       "      <td>9800</td>\n",
       "      <td>suv</td>\n",
       "      <td>2004</td>\n",
       "      <td>auto</td>\n",
       "      <td>163</td>\n",
       "      <td>grand</td>\n",
       "      <td>125000</td>\n",
       "      <td>gasoline</td>\n",
       "      <td>jeep</td>\n",
       "      <td>NaN</td>\n",
       "    </tr>\n",
       "    <tr>\n",
       "      <th>3</th>\n",
       "      <td>1500</td>\n",
       "      <td>small</td>\n",
       "      <td>2001</td>\n",
       "      <td>manual</td>\n",
       "      <td>75</td>\n",
       "      <td>golf</td>\n",
       "      <td>150000</td>\n",
       "      <td>petrol</td>\n",
       "      <td>volkswagen</td>\n",
       "      <td>no</td>\n",
       "    </tr>\n",
       "    <tr>\n",
       "      <th>4</th>\n",
       "      <td>3600</td>\n",
       "      <td>small</td>\n",
       "      <td>2008</td>\n",
       "      <td>manual</td>\n",
       "      <td>69</td>\n",
       "      <td>fabia</td>\n",
       "      <td>90000</td>\n",
       "      <td>gasoline</td>\n",
       "      <td>skoda</td>\n",
       "      <td>no</td>\n",
       "    </tr>\n",
       "  </tbody>\n",
       "</table>\n",
       "</div>"
      ],
      "text/plain": [
       "   price vehicle_type  registration_year gearbox  power  model  kilometer  \\\n",
       "0    480          NaN               1993  manual      0   golf     150000   \n",
       "1  18300        coupe               2011  manual    190    NaN     125000   \n",
       "2   9800          suv               2004    auto    163  grand     125000   \n",
       "3   1500        small               2001  manual     75   golf     150000   \n",
       "4   3600        small               2008  manual     69  fabia      90000   \n",
       "\n",
       "  fuel_type       brand repaired  \n",
       "0    petrol  volkswagen      NaN  \n",
       "1  gasoline        audi      yes  \n",
       "2  gasoline        jeep      NaN  \n",
       "3    petrol  volkswagen       no  \n",
       "4  gasoline       skoda       no  "
      ]
     },
     "execution_count": 56,
     "metadata": {},
     "output_type": "execute_result"
    }
   ],
   "source": [
    "data.head(5)"
   ]
  },
  {
   "cell_type": "markdown",
   "metadata": {},
   "source": [
    "Таким образом, оставили следующие признаки: цена, тип кузова, год регистрации, тип коробки передач, мощность, модель, пробег, тип топлива, бренд и информация о ремонте.\n",
    "\n",
    "Рассмотрим признаки с пропусками."
   ]
  },
  {
   "cell_type": "code",
   "execution_count": 57,
   "metadata": {},
   "outputs": [
    {
     "data": {
      "text/plain": [
       "price                    0\n",
       "vehicle_type         37490\n",
       "registration_year        0\n",
       "gearbox              19833\n",
       "power                    0\n",
       "model                19705\n",
       "kilometer                0\n",
       "fuel_type            32895\n",
       "brand                    0\n",
       "repaired             71154\n",
       "dtype: int64"
      ]
     },
     "execution_count": 57,
     "metadata": {},
     "output_type": "execute_result"
    }
   ],
   "source": [
    "data.isna().sum()"
   ]
  },
  {
   "cell_type": "code",
   "execution_count": 58,
   "metadata": {},
   "outputs": [
    {
     "data": {
      "text/html": [
       "<div>\n",
       "<style scoped>\n",
       "    .dataframe tbody tr th:only-of-type {\n",
       "        vertical-align: middle;\n",
       "    }\n",
       "\n",
       "    .dataframe tbody tr th {\n",
       "        vertical-align: top;\n",
       "    }\n",
       "\n",
       "    .dataframe thead th {\n",
       "        text-align: right;\n",
       "    }\n",
       "</style>\n",
       "<table border=\"1\" class=\"dataframe\">\n",
       "  <thead>\n",
       "    <tr style=\"text-align: right;\">\n",
       "      <th></th>\n",
       "      <th>price</th>\n",
       "      <th>vehicle_type</th>\n",
       "      <th>registration_year</th>\n",
       "      <th>gearbox</th>\n",
       "      <th>power</th>\n",
       "      <th>model</th>\n",
       "      <th>kilometer</th>\n",
       "      <th>fuel_type</th>\n",
       "      <th>brand</th>\n",
       "      <th>repaired</th>\n",
       "    </tr>\n",
       "  </thead>\n",
       "  <tbody>\n",
       "    <tr>\n",
       "      <th>306</th>\n",
       "      <td>200</td>\n",
       "      <td>NaN</td>\n",
       "      <td>2009</td>\n",
       "      <td>NaN</td>\n",
       "      <td>0</td>\n",
       "      <td>NaN</td>\n",
       "      <td>10000</td>\n",
       "      <td>NaN</td>\n",
       "      <td>sonstige_autos</td>\n",
       "      <td>NaN</td>\n",
       "    </tr>\n",
       "    <tr>\n",
       "      <th>522</th>\n",
       "      <td>0</td>\n",
       "      <td>NaN</td>\n",
       "      <td>2000</td>\n",
       "      <td>NaN</td>\n",
       "      <td>0</td>\n",
       "      <td>NaN</td>\n",
       "      <td>150000</td>\n",
       "      <td>NaN</td>\n",
       "      <td>volvo</td>\n",
       "      <td>NaN</td>\n",
       "    </tr>\n",
       "    <tr>\n",
       "      <th>538</th>\n",
       "      <td>2600</td>\n",
       "      <td>NaN</td>\n",
       "      <td>2005</td>\n",
       "      <td>NaN</td>\n",
       "      <td>0</td>\n",
       "      <td>NaN</td>\n",
       "      <td>125000</td>\n",
       "      <td>NaN</td>\n",
       "      <td>chevrolet</td>\n",
       "      <td>NaN</td>\n",
       "    </tr>\n",
       "    <tr>\n",
       "      <th>552</th>\n",
       "      <td>50</td>\n",
       "      <td>NaN</td>\n",
       "      <td>1985</td>\n",
       "      <td>NaN</td>\n",
       "      <td>0</td>\n",
       "      <td>NaN</td>\n",
       "      <td>150000</td>\n",
       "      <td>NaN</td>\n",
       "      <td>trabant</td>\n",
       "      <td>NaN</td>\n",
       "    </tr>\n",
       "    <tr>\n",
       "      <th>622</th>\n",
       "      <td>0</td>\n",
       "      <td>NaN</td>\n",
       "      <td>1111</td>\n",
       "      <td>NaN</td>\n",
       "      <td>0</td>\n",
       "      <td>NaN</td>\n",
       "      <td>5000</td>\n",
       "      <td>NaN</td>\n",
       "      <td>opel</td>\n",
       "      <td>NaN</td>\n",
       "    </tr>\n",
       "    <tr>\n",
       "      <th>...</th>\n",
       "      <td>...</td>\n",
       "      <td>...</td>\n",
       "      <td>...</td>\n",
       "      <td>...</td>\n",
       "      <td>...</td>\n",
       "      <td>...</td>\n",
       "      <td>...</td>\n",
       "      <td>...</td>\n",
       "      <td>...</td>\n",
       "      <td>...</td>\n",
       "    </tr>\n",
       "    <tr>\n",
       "      <th>353727</th>\n",
       "      <td>1</td>\n",
       "      <td>NaN</td>\n",
       "      <td>2000</td>\n",
       "      <td>NaN</td>\n",
       "      <td>0</td>\n",
       "      <td>NaN</td>\n",
       "      <td>150000</td>\n",
       "      <td>NaN</td>\n",
       "      <td>bmw</td>\n",
       "      <td>NaN</td>\n",
       "    </tr>\n",
       "    <tr>\n",
       "      <th>354073</th>\n",
       "      <td>1750</td>\n",
       "      <td>NaN</td>\n",
       "      <td>1995</td>\n",
       "      <td>NaN</td>\n",
       "      <td>0</td>\n",
       "      <td>NaN</td>\n",
       "      <td>100000</td>\n",
       "      <td>NaN</td>\n",
       "      <td>sonstige_autos</td>\n",
       "      <td>NaN</td>\n",
       "    </tr>\n",
       "    <tr>\n",
       "      <th>354083</th>\n",
       "      <td>0</td>\n",
       "      <td>NaN</td>\n",
       "      <td>2000</td>\n",
       "      <td>NaN</td>\n",
       "      <td>0</td>\n",
       "      <td>NaN</td>\n",
       "      <td>150000</td>\n",
       "      <td>NaN</td>\n",
       "      <td>sonstige_autos</td>\n",
       "      <td>NaN</td>\n",
       "    </tr>\n",
       "    <tr>\n",
       "      <th>354162</th>\n",
       "      <td>1500</td>\n",
       "      <td>NaN</td>\n",
       "      <td>1995</td>\n",
       "      <td>NaN</td>\n",
       "      <td>0</td>\n",
       "      <td>NaN</td>\n",
       "      <td>150000</td>\n",
       "      <td>NaN</td>\n",
       "      <td>volkswagen</td>\n",
       "      <td>NaN</td>\n",
       "    </tr>\n",
       "    <tr>\n",
       "      <th>354365</th>\n",
       "      <td>2200</td>\n",
       "      <td>NaN</td>\n",
       "      <td>2005</td>\n",
       "      <td>NaN</td>\n",
       "      <td>0</td>\n",
       "      <td>NaN</td>\n",
       "      <td>20000</td>\n",
       "      <td>NaN</td>\n",
       "      <td>sonstige_autos</td>\n",
       "      <td>NaN</td>\n",
       "    </tr>\n",
       "  </tbody>\n",
       "</table>\n",
       "<p>2237 rows × 10 columns</p>\n",
       "</div>"
      ],
      "text/plain": [
       "        price vehicle_type  registration_year gearbox  power model  kilometer  \\\n",
       "306       200          NaN               2009     NaN      0   NaN      10000   \n",
       "522         0          NaN               2000     NaN      0   NaN     150000   \n",
       "538      2600          NaN               2005     NaN      0   NaN     125000   \n",
       "552        50          NaN               1985     NaN      0   NaN     150000   \n",
       "622         0          NaN               1111     NaN      0   NaN       5000   \n",
       "...       ...          ...                ...     ...    ...   ...        ...   \n",
       "353727      1          NaN               2000     NaN      0   NaN     150000   \n",
       "354073   1750          NaN               1995     NaN      0   NaN     100000   \n",
       "354083      0          NaN               2000     NaN      0   NaN     150000   \n",
       "354162   1500          NaN               1995     NaN      0   NaN     150000   \n",
       "354365   2200          NaN               2005     NaN      0   NaN      20000   \n",
       "\n",
       "       fuel_type           brand repaired  \n",
       "306          NaN  sonstige_autos      NaN  \n",
       "522          NaN           volvo      NaN  \n",
       "538          NaN       chevrolet      NaN  \n",
       "552          NaN         trabant      NaN  \n",
       "622          NaN            opel      NaN  \n",
       "...          ...             ...      ...  \n",
       "353727       NaN             bmw      NaN  \n",
       "354073       NaN  sonstige_autos      NaN  \n",
       "354083       NaN  sonstige_autos      NaN  \n",
       "354162       NaN      volkswagen      NaN  \n",
       "354365       NaN  sonstige_autos      NaN  \n",
       "\n",
       "[2237 rows x 10 columns]"
      ]
     },
     "execution_count": 58,
     "metadata": {},
     "output_type": "execute_result"
    }
   ],
   "source": [
    "data.loc[(data['vehicle_type'].isna()) & (data['gearbox'].isna()) & (data['model'].isna()) \n",
    "         & (data['fuel_type'].isna()) & (data['repaired'].isna())]"
   ]
  },
  {
   "cell_type": "markdown",
   "metadata": {},
   "source": [
    "Для начала удалим строки, в которых есть пропуски в каждом из столбцов."
   ]
  },
  {
   "cell_type": "code",
   "execution_count": 59,
   "metadata": {},
   "outputs": [],
   "source": [
    "data = data.dropna(subset=['vehicle_type', 'fuel_type', 'model', 'repaired','gearbox'], how='all') "
   ]
  },
  {
   "cell_type": "markdown",
   "metadata": {},
   "source": [
    "Рассмотрим пропуски отдельно в каждом столбце"
   ]
  },
  {
   "cell_type": "code",
   "execution_count": 61,
   "metadata": {},
   "outputs": [
    {
     "data": {
      "text/plain": [
       "array([nan, 'coupe', 'suv', 'small', 'sedan', 'convertible', 'bus',\n",
       "       'wagon', 'other'], dtype=object)"
      ]
     },
     "execution_count": 61,
     "metadata": {},
     "output_type": "execute_result"
    }
   ],
   "source": [
    "data['vehicle_type'].unique()"
   ]
  },
  {
   "cell_type": "markdown",
   "metadata": {},
   "source": [
    "В столбце `vehicle_type` заменим пропуски на `other`"
   ]
  },
  {
   "cell_type": "code",
   "execution_count": 62,
   "metadata": {},
   "outputs": [],
   "source": [
    "data['vehicle_type'] = data['vehicle_type'].fillna('other')"
   ]
  },
  {
   "cell_type": "code",
   "execution_count": 63,
   "metadata": {},
   "outputs": [
    {
     "data": {
      "text/plain": [
       "array(['petrol', 'gasoline', nan, 'lpg', 'other', 'hybrid', 'cng',\n",
       "       'electric'], dtype=object)"
      ]
     },
     "execution_count": 63,
     "metadata": {},
     "output_type": "execute_result"
    }
   ],
   "source": [
    "data['fuel_type'].unique()"
   ]
  },
  {
   "cell_type": "markdown",
   "metadata": {},
   "source": [
    "Также поступим с `fuel_type` и `model`"
   ]
  },
  {
   "cell_type": "code",
   "execution_count": 64,
   "metadata": {},
   "outputs": [],
   "source": [
    "data['fuel_type'] = data['fuel_type'].fillna('other')"
   ]
  },
  {
   "cell_type": "code",
   "execution_count": 66,
   "metadata": {},
   "outputs": [
    {
     "data": {
      "text/plain": [
       "array(['golf', nan, 'grand', 'fabia', '3er', '2_reihe', 'other', 'c_max',\n",
       "       '3_reihe', 'passat', 'navara', 'ka', 'polo', 'twingo', 'a_klasse',\n",
       "       'scirocco', '5er', 'meriva', 'arosa', 'c4', 'civic', 'transporter',\n",
       "       'punto', 'e_klasse', 'clio', 'kadett', 'kangoo', 'corsa', 'one',\n",
       "       'fortwo', '1er', 'b_klasse', 'signum', 'astra', 'a8', 'jetta',\n",
       "       'fiesta', 'c_klasse', 'micra', 'vito', 'sprinter', '156', 'escort',\n",
       "       'forester', 'xc_reihe', 'scenic', 'a4', 'a1', 'insignia', 'combo',\n",
       "       'focus', 'tt', 'a6', 'jazz', 'omega', 'slk', '7er', '80', '147',\n",
       "       '100', 'z_reihe', 'sportage', 'sorento', 'v40', 'ibiza', 'mustang',\n",
       "       'eos', 'touran', 'getz', 'a3', 'almera', 'megane', 'lupo', 'r19',\n",
       "       'zafira', 'caddy', 'mondeo', 'cordoba', 'colt', 'impreza',\n",
       "       'vectra', 'berlingo', 'tiguan', 'i_reihe', 'espace', 'sharan',\n",
       "       '6_reihe', 'panda', 'up', 'seicento', 'ceed', '5_reihe', 'yeti',\n",
       "       'octavia', 'mii', 'rx_reihe', '6er', 'modus', 'fox', 'matiz',\n",
       "       'beetle', 'c1', 'rio', 'touareg', 'logan', 'spider', 'cuore',\n",
       "       's_max', 'a2', 'galaxy', 'c3', 'viano', 's_klasse', '1_reihe',\n",
       "       'avensis', 'roomster', 'sl', 'kaefer', 'santa', 'cooper', 'leon',\n",
       "       '4_reihe', 'a5', '500', 'laguna', 'ptcruiser', 'clk', 'primera',\n",
       "       'x_reihe', 'exeo', '159', 'transit', 'juke', 'qashqai', 'carisma',\n",
       "       'accord', 'corolla', 'lanos', 'phaeton', 'verso', 'swift', 'rav',\n",
       "       'picanto', 'boxster', 'kalos', 'superb', 'stilo', 'alhambra',\n",
       "       'mx_reihe', 'roadster', 'ypsilon', 'cayenne', 'galant', 'justy',\n",
       "       '90', 'sirion', 'crossfire', 'agila', 'duster', 'cr_reihe', 'v50',\n",
       "       'c_reihe', 'v_klasse', 'm_klasse', 'yaris', 'c5', 'aygo', 'cc',\n",
       "       'carnival', 'fusion', '911', 'bora', 'forfour', 'm_reihe', 'cl',\n",
       "       'tigra', '300c', 'spark', 'v70', 'kuga', 'x_type', 'ducato',\n",
       "       's_type', 'x_trail', 'toledo', 'altea', 'voyager', 'calibra',\n",
       "       'bravo', 'antara', 'tucson', 'citigo', 'jimny', 'wrangler',\n",
       "       'lybra', 'q7', 'lancer', 'captiva', 'c2', 'discovery',\n",
       "       'freelander', 'sandero', 'note', '900', 'cherokee', 'clubman',\n",
       "       'samara', 'defender', '601', 'cx_reihe', 'legacy', 'pajero',\n",
       "       'auris', 'niva', 's60', 'nubira', 'vivaro', 'g_klasse', 'lodgy',\n",
       "       '850', 'range_rover', 'q3', 'serie_2', 'glk', 'charade', 'croma',\n",
       "       'outlander', 'doblo', 'musa', 'move', '9000', 'v60', '145', 'aveo',\n",
       "       '200', 'b_max', 'range_rover_sport', 'terios', 'rangerover', 'q5',\n",
       "       'range_rover_evoque', 'materia', 'delta', 'gl', 'kalina', 'amarok',\n",
       "       'elefantino', 'i3', 'kappa', 'serie_3', 'serie_1'], dtype=object)"
      ]
     },
     "execution_count": 66,
     "metadata": {},
     "output_type": "execute_result"
    }
   ],
   "source": [
    "data['model'].unique()"
   ]
  },
  {
   "cell_type": "code",
   "execution_count": 67,
   "metadata": {},
   "outputs": [],
   "source": [
    "data['model'] = data['model'].fillna('other')"
   ]
  },
  {
   "cell_type": "code",
   "execution_count": 68,
   "metadata": {},
   "outputs": [
    {
     "data": {
      "text/plain": [
       "array(['manual', 'auto', nan], dtype=object)"
      ]
     },
     "execution_count": 68,
     "metadata": {},
     "output_type": "execute_result"
    }
   ],
   "source": [
    "data['gearbox'].unique()"
   ]
  },
  {
   "cell_type": "markdown",
   "metadata": {},
   "source": [
    "Пропуски в `gearbox` заменим на `unknown`"
   ]
  },
  {
   "cell_type": "code",
   "execution_count": 69,
   "metadata": {},
   "outputs": [],
   "source": [
    "data['gearbox'] = data['gearbox'].fillna('unknown')"
   ]
  },
  {
   "cell_type": "code",
   "execution_count": 70,
   "metadata": {},
   "outputs": [
    {
     "data": {
      "text/plain": [
       "array([nan, 'yes', 'no'], dtype=object)"
      ]
     },
     "execution_count": 70,
     "metadata": {},
     "output_type": "execute_result"
    }
   ],
   "source": [
    "data['repaired'].unique()"
   ]
  },
  {
   "cell_type": "markdown",
   "metadata": {},
   "source": [
    "Пропуски в `repaired` заменим на `no`"
   ]
  },
  {
   "cell_type": "code",
   "execution_count": 71,
   "metadata": {},
   "outputs": [],
   "source": [
    "data['repaired'] = data['repaired'].fillna('no')"
   ]
  },
  {
   "cell_type": "code",
   "execution_count": 72,
   "metadata": {},
   "outputs": [
    {
     "data": {
      "text/plain": [
       "price                0\n",
       "vehicle_type         0\n",
       "registration_year    0\n",
       "gearbox              0\n",
       "power                0\n",
       "model                0\n",
       "kilometer            0\n",
       "fuel_type            0\n",
       "brand                0\n",
       "repaired             0\n",
       "dtype: int64"
      ]
     },
     "execution_count": 72,
     "metadata": {},
     "output_type": "execute_result"
    }
   ],
   "source": [
    "data.isna().sum()"
   ]
  },
  {
   "cell_type": "markdown",
   "metadata": {},
   "source": [
    "**Подробнее изучим данные**"
   ]
  },
  {
   "cell_type": "code",
   "execution_count": 73,
   "metadata": {},
   "outputs": [
    {
     "data": {
      "text/html": [
       "<div>\n",
       "<style scoped>\n",
       "    .dataframe tbody tr th:only-of-type {\n",
       "        vertical-align: middle;\n",
       "    }\n",
       "\n",
       "    .dataframe tbody tr th {\n",
       "        vertical-align: top;\n",
       "    }\n",
       "\n",
       "    .dataframe thead th {\n",
       "        text-align: right;\n",
       "    }\n",
       "</style>\n",
       "<table border=\"1\" class=\"dataframe\">\n",
       "  <thead>\n",
       "    <tr style=\"text-align: right;\">\n",
       "      <th></th>\n",
       "      <th>price</th>\n",
       "      <th>registration_year</th>\n",
       "      <th>power</th>\n",
       "      <th>kilometer</th>\n",
       "    </tr>\n",
       "  </thead>\n",
       "  <tbody>\n",
       "    <tr>\n",
       "      <th>count</th>\n",
       "      <td>352132.000000</td>\n",
       "      <td>352132.000000</td>\n",
       "      <td>352132.000000</td>\n",
       "      <td>352132.000000</td>\n",
       "    </tr>\n",
       "    <tr>\n",
       "      <th>mean</th>\n",
       "      <td>4437.540570</td>\n",
       "      <td>2003.871636</td>\n",
       "      <td>110.720108</td>\n",
       "      <td>128438.071519</td>\n",
       "    </tr>\n",
       "    <tr>\n",
       "      <th>std</th>\n",
       "      <td>4516.540446</td>\n",
       "      <td>70.673430</td>\n",
       "      <td>190.249667</td>\n",
       "      <td>37562.896848</td>\n",
       "    </tr>\n",
       "    <tr>\n",
       "      <th>min</th>\n",
       "      <td>0.000000</td>\n",
       "      <td>1000.000000</td>\n",
       "      <td>0.000000</td>\n",
       "      <td>5000.000000</td>\n",
       "    </tr>\n",
       "    <tr>\n",
       "      <th>25%</th>\n",
       "      <td>1100.000000</td>\n",
       "      <td>1999.000000</td>\n",
       "      <td>69.000000</td>\n",
       "      <td>125000.000000</td>\n",
       "    </tr>\n",
       "    <tr>\n",
       "      <th>50%</th>\n",
       "      <td>2750.000000</td>\n",
       "      <td>2003.000000</td>\n",
       "      <td>105.000000</td>\n",
       "      <td>150000.000000</td>\n",
       "    </tr>\n",
       "    <tr>\n",
       "      <th>75%</th>\n",
       "      <td>6450.000000</td>\n",
       "      <td>2008.000000</td>\n",
       "      <td>143.000000</td>\n",
       "      <td>150000.000000</td>\n",
       "    </tr>\n",
       "    <tr>\n",
       "      <th>max</th>\n",
       "      <td>20000.000000</td>\n",
       "      <td>9999.000000</td>\n",
       "      <td>20000.000000</td>\n",
       "      <td>150000.000000</td>\n",
       "    </tr>\n",
       "  </tbody>\n",
       "</table>\n",
       "</div>"
      ],
      "text/plain": [
       "               price  registration_year          power      kilometer\n",
       "count  352132.000000      352132.000000  352132.000000  352132.000000\n",
       "mean     4437.540570        2003.871636     110.720108  128438.071519\n",
       "std      4516.540446          70.673430     190.249667   37562.896848\n",
       "min         0.000000        1000.000000       0.000000    5000.000000\n",
       "25%      1100.000000        1999.000000      69.000000  125000.000000\n",
       "50%      2750.000000        2003.000000     105.000000  150000.000000\n",
       "75%      6450.000000        2008.000000     143.000000  150000.000000\n",
       "max     20000.000000        9999.000000   20000.000000  150000.000000"
      ]
     },
     "execution_count": 73,
     "metadata": {},
     "output_type": "execute_result"
    }
   ],
   "source": [
    "data.describe()"
   ]
  },
  {
   "cell_type": "markdown",
   "metadata": {},
   "source": [
    "Видим, что у `price` минимальное значение - **0**, чего быть не должно. Максимальный год регистрации - **9999**, что явно говорит об ошибке в данных. У мощности минимальное значение - **0**. Всё это выбросы, которые нужно удалить."
   ]
  },
  {
   "cell_type": "markdown",
   "metadata": {},
   "source": [
    "Значения цены рассмотрим на \"ящике с усами\""
   ]
  },
  {
   "cell_type": "code",
   "execution_count": 74,
   "metadata": {},
   "outputs": [
    {
     "data": {
      "image/png": "[encoded data removed]",
      "text/plain": [
       "<Figure size 1000x800 with 1 Axes>"
      ]
     },
     "metadata": {},
     "output_type": "display_data"
    }
   ],
   "source": [
    "plt.figure(figsize=(10, 8))\n",
    "plt.boxplot(x=data['price']);"
   ]
  },
  {
   "cell_type": "markdown",
   "metadata": {},
   "source": [
    "Установим то, что цена не может быть меньше 200 долларов."
   ]
  },
  {
   "cell_type": "code",
   "execution_count": 75,
   "metadata": {},
   "outputs": [],
   "source": [
    "data = data.loc[data['price'] > 200]"
   ]
  },
  {
   "cell_type": "markdown",
   "metadata": {},
   "source": [
    "Далее рассмотрим года регистрации"
   ]
  },
  {
   "cell_type": "code",
   "execution_count": 76,
   "metadata": {},
   "outputs": [
    {
     "data": {
      "text/plain": [
       "array([1993, 2011, 2004, 2001, 2008, 1995, 2014, 1998, 2005, 1910, 2016,\n",
       "       2007, 2009, 2002, 2018, 1997, 1990, 2017, 1981, 2003, 1994, 1991,\n",
       "       1984, 2006, 1999, 2012, 2010, 2000, 1992, 2013, 1996, 1989, 2015,\n",
       "       1985, 1982, 1976, 1983, 1973, 1969, 1971, 1987, 1988, 1980, 1986,\n",
       "       1965, 1970, 1945, 1925, 1974, 1979, 1955, 1978, 1972, 1968, 1977,\n",
       "       1961, 1966, 1975, 1963, 1964, 1960, 1958, 1967, 1956, 1941, 9999,\n",
       "       1500, 2200, 1962, 1929, 1957, 1940, 2066, 1949, 2019, 1937, 1951,\n",
       "       1800, 1959, 1953, 1954, 9000, 2900, 6000, 1000, 5911, 1400, 5000,\n",
       "       4000, 1948, 1952, 8500, 1932, 1950, 3700, 4800, 1942, 1935, 1933,\n",
       "       1936, 1923, 2290, 1930, 1001, 1234, 9450, 1944, 7000, 2500, 1943,\n",
       "       1938, 1934, 1928, 5555, 1039, 3000, 2800, 1931, 4500, 1602, 7800,\n",
       "       1947, 1927, 7100, 1300, 8200, 1946, 1600], dtype=int64)"
      ]
     },
     "execution_count": 76,
     "metadata": {},
     "output_type": "execute_result"
    }
   ],
   "source": [
    "data['registration_year'].unique()"
   ]
  },
  {
   "cell_type": "markdown",
   "metadata": {},
   "source": [
    "Вспомним, что самая свежая информация в датасете - это 2016 год, значит всё, что больше - это ошибка, а также удалим машины старше 1970 года."
   ]
  },
  {
   "cell_type": "code",
   "execution_count": 77,
   "metadata": {},
   "outputs": [],
   "source": [
    "data = data.loc[(data['registration_year'] < 2016) & (data['registration_year'] > 1970)]"
   ]
  },
  {
   "cell_type": "code",
   "execution_count": 78,
   "metadata": {},
   "outputs": [
    {
     "data": {
      "image/png": "[encoded data removed]",
      "text/plain": [
       "<Figure size 1000x800 with 1 Axes>"
      ]
     },
     "metadata": {},
     "output_type": "display_data"
    }
   ],
   "source": [
    "plt.figure(figsize=(10, 8))\n",
    "plt.boxplot(x=data['registration_year']);"
   ]
  },
  {
   "cell_type": "markdown",
   "metadata": {},
   "source": [
    "Далее мощность"
   ]
  },
  {
   "cell_type": "code",
   "execution_count": 79,
   "metadata": {},
   "outputs": [
    {
     "data": {
      "image/png": "[encoded data removed]",
      "text/plain": [
       "<Figure size 1000x800 with 1 Axes>"
      ]
     },
     "metadata": {},
     "output_type": "display_data"
    }
   ],
   "source": [
    "plt.figure(figsize=(10, 8))\n",
    "plt.boxplot(x=data['power']);"
   ]
  },
  {
   "cell_type": "markdown",
   "metadata": {},
   "source": [
    "Установим минимальную мощность - **10**, а максимальную - **1000**"
   ]
  },
  {
   "cell_type": "code",
   "execution_count": 80,
   "metadata": {},
   "outputs": [],
   "source": [
    "data = data.loc[(data['power'] >= 10) & (data['power'] <= 1000)]"
   ]
  },
  {
   "cell_type": "code",
   "execution_count": 81,
   "metadata": {},
   "outputs": [
    {
     "data": {
      "image/png": "[encoded data removed]",
      "text/plain": [
       "<Figure size 1000x800 with 1 Axes>"
      ]
     },
     "metadata": {},
     "output_type": "display_data"
    }
   ],
   "source": [
    "plt.figure(figsize=(10, 8))\n",
    "plt.boxplot(x=data['power']);"
   ]
  },
  {
   "cell_type": "code",
   "execution_count": 82,
   "metadata": {},
   "outputs": [
    {
     "data": {
      "text/html": [
       "<div>\n",
       "<style scoped>\n",
       "    .dataframe tbody tr th:only-of-type {\n",
       "        vertical-align: middle;\n",
       "    }\n",
       "\n",
       "    .dataframe tbody tr th {\n",
       "        vertical-align: top;\n",
       "    }\n",
       "\n",
       "    .dataframe thead th {\n",
       "        text-align: right;\n",
       "    }\n",
       "</style>\n",
       "<table border=\"1\" class=\"dataframe\">\n",
       "  <thead>\n",
       "    <tr style=\"text-align: right;\">\n",
       "      <th></th>\n",
       "      <th>price</th>\n",
       "      <th>registration_year</th>\n",
       "      <th>power</th>\n",
       "      <th>kilometer</th>\n",
       "    </tr>\n",
       "  </thead>\n",
       "  <tbody>\n",
       "    <tr>\n",
       "      <th>count</th>\n",
       "      <td>284310.000000</td>\n",
       "      <td>284310.000000</td>\n",
       "      <td>284310.000000</td>\n",
       "      <td>284310.000000</td>\n",
       "    </tr>\n",
       "    <tr>\n",
       "      <th>mean</th>\n",
       "      <td>4975.488534</td>\n",
       "      <td>2002.735261</td>\n",
       "      <td>121.961264</td>\n",
       "      <td>128210.580001</td>\n",
       "    </tr>\n",
       "    <tr>\n",
       "      <th>std</th>\n",
       "      <td>4612.381865</td>\n",
       "      <td>5.927522</td>\n",
       "      <td>54.492981</td>\n",
       "      <td>36609.544887</td>\n",
       "    </tr>\n",
       "    <tr>\n",
       "      <th>min</th>\n",
       "      <td>202.000000</td>\n",
       "      <td>1971.000000</td>\n",
       "      <td>10.000000</td>\n",
       "      <td>5000.000000</td>\n",
       "    </tr>\n",
       "    <tr>\n",
       "      <th>25%</th>\n",
       "      <td>1450.000000</td>\n",
       "      <td>1999.000000</td>\n",
       "      <td>80.000000</td>\n",
       "      <td>125000.000000</td>\n",
       "    </tr>\n",
       "    <tr>\n",
       "      <th>50%</th>\n",
       "      <td>3300.000000</td>\n",
       "      <td>2003.000000</td>\n",
       "      <td>115.000000</td>\n",
       "      <td>150000.000000</td>\n",
       "    </tr>\n",
       "    <tr>\n",
       "      <th>75%</th>\n",
       "      <td>7100.000000</td>\n",
       "      <td>2007.000000</td>\n",
       "      <td>150.000000</td>\n",
       "      <td>150000.000000</td>\n",
       "    </tr>\n",
       "    <tr>\n",
       "      <th>max</th>\n",
       "      <td>20000.000000</td>\n",
       "      <td>2015.000000</td>\n",
       "      <td>1000.000000</td>\n",
       "      <td>150000.000000</td>\n",
       "    </tr>\n",
       "  </tbody>\n",
       "</table>\n",
       "</div>"
      ],
      "text/plain": [
       "               price  registration_year          power      kilometer\n",
       "count  284310.000000      284310.000000  284310.000000  284310.000000\n",
       "mean     4975.488534        2002.735261     121.961264  128210.580001\n",
       "std      4612.381865           5.927522      54.492981   36609.544887\n",
       "min       202.000000        1971.000000      10.000000    5000.000000\n",
       "25%      1450.000000        1999.000000      80.000000  125000.000000\n",
       "50%      3300.000000        2003.000000     115.000000  150000.000000\n",
       "75%      7100.000000        2007.000000     150.000000  150000.000000\n",
       "max     20000.000000        2015.000000    1000.000000  150000.000000"
      ]
     },
     "execution_count": 82,
     "metadata": {},
     "output_type": "execute_result"
    }
   ],
   "source": [
    "data.describe()"
   ]
  },
  {
   "cell_type": "markdown",
   "metadata": {},
   "source": [
    "**С выбросами разобрались**\n",
    "\n",
    "Удалим дубликаты"
   ]
  },
  {
   "cell_type": "code",
   "execution_count": 83,
   "metadata": {},
   "outputs": [
    {
     "data": {
      "text/plain": [
       "44378"
      ]
     },
     "execution_count": 83,
     "metadata": {},
     "output_type": "execute_result"
    }
   ],
   "source": [
    "data.duplicated().sum()"
   ]
  },
  {
   "cell_type": "code",
   "execution_count": 84,
   "metadata": {},
   "outputs": [
    {
     "data": {
      "text/plain": [
       "0"
      ]
     },
     "execution_count": 84,
     "metadata": {},
     "output_type": "execute_result"
    }
   ],
   "source": [
    "data = data.drop_duplicates().reset_index(drop=True)\n",
    "data.duplicated().sum()"
   ]
  },
  {
   "cell_type": "markdown",
   "metadata": {},
   "source": [
    "### Вывод\n",
    "\n",
    "В данном датафреме были исправлены названия столбцов, изучены и исправлены пропуски и выбросы в значениях, а также удалены дубликаты."
   ]
  },
  {
   "cell_type": "markdown",
   "metadata": {},
   "source": [
    "## Обучение моделей"
   ]
  },
  {
   "cell_type": "markdown",
   "metadata": {},
   "source": [
    "Для начала закодируем категориальные признаки с помощью `get_dummies`"
   ]
  },
  {
   "cell_type": "code",
   "execution_count": 85,
   "metadata": {},
   "outputs": [
    {
     "data": {
      "text/html": [
       "<div>\n",
       "<style scoped>\n",
       "    .dataframe tbody tr th:only-of-type {\n",
       "        vertical-align: middle;\n",
       "    }\n",
       "\n",
       "    .dataframe tbody tr th {\n",
       "        vertical-align: top;\n",
       "    }\n",
       "\n",
       "    .dataframe thead th {\n",
       "        text-align: right;\n",
       "    }\n",
       "</style>\n",
       "<table border=\"1\" class=\"dataframe\">\n",
       "  <thead>\n",
       "    <tr style=\"text-align: right;\">\n",
       "      <th></th>\n",
       "      <th>price</th>\n",
       "      <th>registration_year</th>\n",
       "      <th>power</th>\n",
       "      <th>kilometer</th>\n",
       "      <th>vehicle_type_convertible</th>\n",
       "      <th>vehicle_type_coupe</th>\n",
       "      <th>vehicle_type_other</th>\n",
       "      <th>vehicle_type_sedan</th>\n",
       "      <th>vehicle_type_small</th>\n",
       "      <th>vehicle_type_suv</th>\n",
       "      <th>...</th>\n",
       "      <th>brand_skoda</th>\n",
       "      <th>brand_smart</th>\n",
       "      <th>brand_sonstige_autos</th>\n",
       "      <th>brand_subaru</th>\n",
       "      <th>brand_suzuki</th>\n",
       "      <th>brand_toyota</th>\n",
       "      <th>brand_trabant</th>\n",
       "      <th>brand_volkswagen</th>\n",
       "      <th>brand_volvo</th>\n",
       "      <th>repaired_yes</th>\n",
       "    </tr>\n",
       "  </thead>\n",
       "  <tbody>\n",
       "    <tr>\n",
       "      <th>0</th>\n",
       "      <td>18300</td>\n",
       "      <td>2011</td>\n",
       "      <td>190</td>\n",
       "      <td>125000</td>\n",
       "      <td>0</td>\n",
       "      <td>1</td>\n",
       "      <td>0</td>\n",
       "      <td>0</td>\n",
       "      <td>0</td>\n",
       "      <td>0</td>\n",
       "      <td>...</td>\n",
       "      <td>0</td>\n",
       "      <td>0</td>\n",
       "      <td>0</td>\n",
       "      <td>0</td>\n",
       "      <td>0</td>\n",
       "      <td>0</td>\n",
       "      <td>0</td>\n",
       "      <td>0</td>\n",
       "      <td>0</td>\n",
       "      <td>1</td>\n",
       "    </tr>\n",
       "    <tr>\n",
       "      <th>1</th>\n",
       "      <td>9800</td>\n",
       "      <td>2004</td>\n",
       "      <td>163</td>\n",
       "      <td>125000</td>\n",
       "      <td>0</td>\n",
       "      <td>0</td>\n",
       "      <td>0</td>\n",
       "      <td>0</td>\n",
       "      <td>0</td>\n",
       "      <td>1</td>\n",
       "      <td>...</td>\n",
       "      <td>0</td>\n",
       "      <td>0</td>\n",
       "      <td>0</td>\n",
       "      <td>0</td>\n",
       "      <td>0</td>\n",
       "      <td>0</td>\n",
       "      <td>0</td>\n",
       "      <td>0</td>\n",
       "      <td>0</td>\n",
       "      <td>0</td>\n",
       "    </tr>\n",
       "    <tr>\n",
       "      <th>2</th>\n",
       "      <td>1500</td>\n",
       "      <td>2001</td>\n",
       "      <td>75</td>\n",
       "      <td>150000</td>\n",
       "      <td>0</td>\n",
       "      <td>0</td>\n",
       "      <td>0</td>\n",
       "      <td>0</td>\n",
       "      <td>1</td>\n",
       "      <td>0</td>\n",
       "      <td>...</td>\n",
       "      <td>0</td>\n",
       "      <td>0</td>\n",
       "      <td>0</td>\n",
       "      <td>0</td>\n",
       "      <td>0</td>\n",
       "      <td>0</td>\n",
       "      <td>0</td>\n",
       "      <td>1</td>\n",
       "      <td>0</td>\n",
       "      <td>0</td>\n",
       "    </tr>\n",
       "    <tr>\n",
       "      <th>3</th>\n",
       "      <td>3600</td>\n",
       "      <td>2008</td>\n",
       "      <td>69</td>\n",
       "      <td>90000</td>\n",
       "      <td>0</td>\n",
       "      <td>0</td>\n",
       "      <td>0</td>\n",
       "      <td>0</td>\n",
       "      <td>1</td>\n",
       "      <td>0</td>\n",
       "      <td>...</td>\n",
       "      <td>1</td>\n",
       "      <td>0</td>\n",
       "      <td>0</td>\n",
       "      <td>0</td>\n",
       "      <td>0</td>\n",
       "      <td>0</td>\n",
       "      <td>0</td>\n",
       "      <td>0</td>\n",
       "      <td>0</td>\n",
       "      <td>0</td>\n",
       "    </tr>\n",
       "    <tr>\n",
       "      <th>4</th>\n",
       "      <td>650</td>\n",
       "      <td>1995</td>\n",
       "      <td>102</td>\n",
       "      <td>150000</td>\n",
       "      <td>0</td>\n",
       "      <td>0</td>\n",
       "      <td>0</td>\n",
       "      <td>1</td>\n",
       "      <td>0</td>\n",
       "      <td>0</td>\n",
       "      <td>...</td>\n",
       "      <td>0</td>\n",
       "      <td>0</td>\n",
       "      <td>0</td>\n",
       "      <td>0</td>\n",
       "      <td>0</td>\n",
       "      <td>0</td>\n",
       "      <td>0</td>\n",
       "      <td>0</td>\n",
       "      <td>0</td>\n",
       "      <td>1</td>\n",
       "    </tr>\n",
       "  </tbody>\n",
       "</table>\n",
       "<p>5 rows × 307 columns</p>\n",
       "</div>"
      ],
      "text/plain": [
       "   price  registration_year  power  kilometer  vehicle_type_convertible  \\\n",
       "0  18300               2011    190     125000                         0   \n",
       "1   9800               2004    163     125000                         0   \n",
       "2   1500               2001     75     150000                         0   \n",
       "3   3600               2008     69      90000                         0   \n",
       "4    650               1995    102     150000                         0   \n",
       "\n",
       "   vehicle_type_coupe  vehicle_type_other  vehicle_type_sedan  \\\n",
       "0                   1                   0                   0   \n",
       "1                   0                   0                   0   \n",
       "2                   0                   0                   0   \n",
       "3                   0                   0                   0   \n",
       "4                   0                   0                   1   \n",
       "\n",
       "   vehicle_type_small  vehicle_type_suv  ...  brand_skoda  brand_smart  \\\n",
       "0                   0                 0  ...            0            0   \n",
       "1                   0                 1  ...            0            0   \n",
       "2                   1                 0  ...            0            0   \n",
       "3                   1                 0  ...            1            0   \n",
       "4                   0                 0  ...            0            0   \n",
       "\n",
       "   brand_sonstige_autos  brand_subaru  brand_suzuki  brand_toyota  \\\n",
       "0                     0             0             0             0   \n",
       "1                     0             0             0             0   \n",
       "2                     0             0             0             0   \n",
       "3                     0             0             0             0   \n",
       "4                     0             0             0             0   \n",
       "\n",
       "   brand_trabant  brand_volkswagen  brand_volvo  repaired_yes  \n",
       "0              0                 0            0             1  \n",
       "1              0                 0            0             0  \n",
       "2              0                 1            0             0  \n",
       "3              0                 0            0             0  \n",
       "4              0                 0            0             1  \n",
       "\n",
       "[5 rows x 307 columns]"
      ]
     },
     "execution_count": 85,
     "metadata": {},
     "output_type": "execute_result"
    }
   ],
   "source": [
    "data_ohe = pd.get_dummies(data, drop_first=True)\n",
    "data_ohe.head()"
   ]
  },
  {
   "cell_type": "markdown",
   "metadata": {},
   "source": [
    "Выделим признаки и целевой признак, а также разделим данные на обучающую и тестовую выборки"
   ]
  },
  {
   "cell_type": "code",
   "execution_count": 86,
   "metadata": {},
   "outputs": [
    {
     "name": "stdout",
     "output_type": "stream",
     "text": [
      "(179949, 306)\n",
      "(59983, 306)\n"
     ]
    }
   ],
   "source": [
    "target_ohe = data_ohe['price']\n",
    "features_ohe = data_ohe.drop('price', axis=1)\n",
    "features_train_ohe, features_test_ohe, target_train_ohe, target_test_ohe = train_test_split(features_ohe, target_ohe, test_size=0.25, random_state=12345) \n",
    "print(features_train_ohe.shape)\n",
    "print(features_test_ohe.shape)"
   ]
  },
  {
   "cell_type": "markdown",
   "metadata": {},
   "source": [
    "Для будущего масштабирования подготовим список количественных данных"
   ]
  },
  {
   "cell_type": "code",
   "execution_count": 87,
   "metadata": {},
   "outputs": [
    {
     "data": {
      "text/plain": [
       "['registration_year',\n",
       " 'power',\n",
       " 'kilometer',\n",
       " 'vehicle_type_convertible',\n",
       " 'vehicle_type_coupe',\n",
       " 'vehicle_type_other',\n",
       " 'vehicle_type_sedan',\n",
       " 'vehicle_type_small',\n",
       " 'vehicle_type_suv',\n",
       " 'vehicle_type_wagon',\n",
       " 'gearbox_manual',\n",
       " 'gearbox_unknown',\n",
       " 'model_145',\n",
       " 'model_147',\n",
       " 'model_156',\n",
       " 'model_159',\n",
       " 'model_1_reihe',\n",
       " 'model_1er',\n",
       " 'model_200',\n",
       " 'model_2_reihe',\n",
       " 'model_300c',\n",
       " 'model_3_reihe',\n",
       " 'model_3er',\n",
       " 'model_4_reihe',\n",
       " 'model_500',\n",
       " 'model_5_reihe',\n",
       " 'model_5er',\n",
       " 'model_601',\n",
       " 'model_6_reihe',\n",
       " 'model_6er',\n",
       " 'model_7er',\n",
       " 'model_80',\n",
       " 'model_850',\n",
       " 'model_90',\n",
       " 'model_900',\n",
       " 'model_9000',\n",
       " 'model_911',\n",
       " 'model_a1',\n",
       " 'model_a2',\n",
       " 'model_a3',\n",
       " 'model_a4',\n",
       " 'model_a5',\n",
       " 'model_a6',\n",
       " 'model_a8',\n",
       " 'model_a_klasse',\n",
       " 'model_accord',\n",
       " 'model_agila',\n",
       " 'model_alhambra',\n",
       " 'model_almera',\n",
       " 'model_altea',\n",
       " 'model_amarok',\n",
       " 'model_antara',\n",
       " 'model_arosa',\n",
       " 'model_astra',\n",
       " 'model_auris',\n",
       " 'model_avensis',\n",
       " 'model_aveo',\n",
       " 'model_aygo',\n",
       " 'model_b_klasse',\n",
       " 'model_b_max',\n",
       " 'model_beetle',\n",
       " 'model_berlingo',\n",
       " 'model_bora',\n",
       " 'model_boxster',\n",
       " 'model_bravo',\n",
       " 'model_c1',\n",
       " 'model_c2',\n",
       " 'model_c3',\n",
       " 'model_c4',\n",
       " 'model_c5',\n",
       " 'model_c_klasse',\n",
       " 'model_c_max',\n",
       " 'model_c_reihe',\n",
       " 'model_caddy',\n",
       " 'model_calibra',\n",
       " 'model_captiva',\n",
       " 'model_carisma',\n",
       " 'model_carnival',\n",
       " 'model_cayenne',\n",
       " 'model_cc',\n",
       " 'model_ceed',\n",
       " 'model_charade',\n",
       " 'model_cherokee',\n",
       " 'model_citigo',\n",
       " 'model_civic',\n",
       " 'model_cl',\n",
       " 'model_clio',\n",
       " 'model_clk',\n",
       " 'model_clubman',\n",
       " 'model_colt',\n",
       " 'model_combo',\n",
       " 'model_cooper',\n",
       " 'model_cordoba',\n",
       " 'model_corolla',\n",
       " 'model_corsa',\n",
       " 'model_cr_reihe',\n",
       " 'model_croma',\n",
       " 'model_crossfire',\n",
       " 'model_cuore',\n",
       " 'model_cx_reihe',\n",
       " 'model_defender',\n",
       " 'model_delta',\n",
       " 'model_discovery',\n",
       " 'model_doblo',\n",
       " 'model_ducato',\n",
       " 'model_duster',\n",
       " 'model_e_klasse',\n",
       " 'model_elefantino',\n",
       " 'model_eos',\n",
       " 'model_escort',\n",
       " 'model_espace',\n",
       " 'model_exeo',\n",
       " 'model_fabia',\n",
       " 'model_fiesta',\n",
       " 'model_focus',\n",
       " 'model_forester',\n",
       " 'model_forfour',\n",
       " 'model_fortwo',\n",
       " 'model_fox',\n",
       " 'model_freelander',\n",
       " 'model_fusion',\n",
       " 'model_g_klasse',\n",
       " 'model_galant',\n",
       " 'model_galaxy',\n",
       " 'model_getz',\n",
       " 'model_gl',\n",
       " 'model_glk',\n",
       " 'model_golf',\n",
       " 'model_grand',\n",
       " 'model_i3',\n",
       " 'model_i_reihe',\n",
       " 'model_ibiza',\n",
       " 'model_impreza',\n",
       " 'model_insignia',\n",
       " 'model_jazz',\n",
       " 'model_jetta',\n",
       " 'model_jimny',\n",
       " 'model_juke',\n",
       " 'model_justy',\n",
       " 'model_ka',\n",
       " 'model_kadett',\n",
       " 'model_kaefer',\n",
       " 'model_kalina',\n",
       " 'model_kalos',\n",
       " 'model_kangoo',\n",
       " 'model_kappa',\n",
       " 'model_kuga',\n",
       " 'model_laguna',\n",
       " 'model_lancer',\n",
       " 'model_lanos',\n",
       " 'model_legacy',\n",
       " 'model_leon',\n",
       " 'model_lodgy',\n",
       " 'model_logan',\n",
       " 'model_lupo',\n",
       " 'model_lybra',\n",
       " 'model_m_klasse',\n",
       " 'model_m_reihe',\n",
       " 'model_materia',\n",
       " 'model_matiz',\n",
       " 'model_megane',\n",
       " 'model_meriva',\n",
       " 'model_micra',\n",
       " 'model_mii',\n",
       " 'model_modus',\n",
       " 'model_mondeo',\n",
       " 'model_move',\n",
       " 'model_musa',\n",
       " 'model_mustang',\n",
       " 'model_mx_reihe',\n",
       " 'model_navara',\n",
       " 'model_niva',\n",
       " 'model_note',\n",
       " 'model_nubira',\n",
       " 'model_octavia',\n",
       " 'model_omega',\n",
       " 'model_one',\n",
       " 'model_other',\n",
       " 'model_outlander',\n",
       " 'model_pajero',\n",
       " 'model_panda',\n",
       " 'model_passat',\n",
       " 'model_phaeton',\n",
       " 'model_picanto',\n",
       " 'model_polo',\n",
       " 'model_primera',\n",
       " 'model_ptcruiser',\n",
       " 'model_punto',\n",
       " 'model_q3',\n",
       " 'model_q5',\n",
       " 'model_q7',\n",
       " 'model_qashqai',\n",
       " 'model_r19',\n",
       " 'model_range_rover',\n",
       " 'model_range_rover_evoque',\n",
       " 'model_range_rover_sport',\n",
       " 'model_rangerover',\n",
       " 'model_rav',\n",
       " 'model_rio',\n",
       " 'model_roadster',\n",
       " 'model_roomster',\n",
       " 'model_rx_reihe',\n",
       " 'model_s60',\n",
       " 'model_s_klasse',\n",
       " 'model_s_max',\n",
       " 'model_s_type',\n",
       " 'model_samara',\n",
       " 'model_sandero',\n",
       " 'model_santa',\n",
       " 'model_scenic',\n",
       " 'model_scirocco',\n",
       " 'model_seicento',\n",
       " 'model_serie_2',\n",
       " 'model_serie_3',\n",
       " 'model_sharan',\n",
       " 'model_signum',\n",
       " 'model_sirion',\n",
       " 'model_sl',\n",
       " 'model_slk',\n",
       " 'model_sorento',\n",
       " 'model_spark',\n",
       " 'model_spider',\n",
       " 'model_sportage',\n",
       " 'model_sprinter',\n",
       " 'model_stilo',\n",
       " 'model_superb',\n",
       " 'model_swift',\n",
       " 'model_terios',\n",
       " 'model_tigra',\n",
       " 'model_tiguan',\n",
       " 'model_toledo',\n",
       " 'model_touareg',\n",
       " 'model_touran',\n",
       " 'model_transit',\n",
       " 'model_transporter',\n",
       " 'model_tt',\n",
       " 'model_tucson',\n",
       " 'model_twingo',\n",
       " 'model_up',\n",
       " 'model_v40',\n",
       " 'model_v50',\n",
       " 'model_v60',\n",
       " 'model_v70',\n",
       " 'model_v_klasse',\n",
       " 'model_vectra',\n",
       " 'model_verso',\n",
       " 'model_viano',\n",
       " 'model_vito',\n",
       " 'model_vivaro',\n",
       " 'model_voyager',\n",
       " 'model_wrangler',\n",
       " 'model_x_reihe',\n",
       " 'model_x_trail',\n",
       " 'model_x_type',\n",
       " 'model_xc_reihe',\n",
       " 'model_yaris',\n",
       " 'model_yeti',\n",
       " 'model_ypsilon',\n",
       " 'model_z_reihe',\n",
       " 'model_zafira',\n",
       " 'fuel_type_electric',\n",
       " 'fuel_type_gasoline',\n",
       " 'fuel_type_hybrid',\n",
       " 'fuel_type_lpg',\n",
       " 'fuel_type_other',\n",
       " 'fuel_type_petrol',\n",
       " 'brand_audi',\n",
       " 'brand_bmw',\n",
       " 'brand_chevrolet',\n",
       " 'brand_chrysler',\n",
       " 'brand_citroen',\n",
       " 'brand_dacia',\n",
       " 'brand_daewoo',\n",
       " 'brand_daihatsu',\n",
       " 'brand_fiat',\n",
       " 'brand_ford',\n",
       " 'brand_honda',\n",
       " 'brand_hyundai',\n",
       " 'brand_jaguar',\n",
       " 'brand_jeep',\n",
       " 'brand_kia',\n",
       " 'brand_lada',\n",
       " 'brand_lancia',\n",
       " 'brand_land_rover',\n",
       " 'brand_mazda',\n",
       " 'brand_mercedes_benz',\n",
       " 'brand_mini',\n",
       " 'brand_mitsubishi',\n",
       " 'brand_nissan',\n",
       " 'brand_opel',\n",
       " 'brand_peugeot',\n",
       " 'brand_porsche',\n",
       " 'brand_renault',\n",
       " 'brand_rover',\n",
       " 'brand_saab',\n",
       " 'brand_seat',\n",
       " 'brand_skoda',\n",
       " 'brand_smart',\n",
       " 'brand_sonstige_autos',\n",
       " 'brand_subaru',\n",
       " 'brand_suzuki',\n",
       " 'brand_toyota',\n",
       " 'brand_trabant',\n",
       " 'brand_volkswagen',\n",
       " 'brand_volvo',\n",
       " 'repaired_yes']"
      ]
     },
     "execution_count": 87,
     "metadata": {},
     "output_type": "execute_result"
    }
   ],
   "source": [
    "numeric = list(data_ohe)\n",
    "numeric.remove('price')\n",
    "numeric"
   ]
  },
  {
   "cell_type": "markdown",
   "metadata": {},
   "source": [
    "Для масштабирования данных применим `StandardScaler`"
   ]
  },
  {
   "cell_type": "code",
   "execution_count": 88,
   "metadata": {},
   "outputs": [],
   "source": [
    "scaler = StandardScaler()\n",
    "scaler.fit(features_train_ohe[numeric])\n",
    "features_train_ohe[numeric] = scaler.transform(features_train_ohe[numeric])\n",
    "features_test_ohe[numeric] = scaler.transform(features_test_ohe[numeric])"
   ]
  },
  {
   "cell_type": "code",
   "execution_count": 89,
   "metadata": {},
   "outputs": [
    {
     "data": {
      "text/html": [
       "<div>\n",
       "<style scoped>\n",
       "    .dataframe tbody tr th:only-of-type {\n",
       "        vertical-align: middle;\n",
       "    }\n",
       "\n",
       "    .dataframe tbody tr th {\n",
       "        vertical-align: top;\n",
       "    }\n",
       "\n",
       "    .dataframe thead th {\n",
       "        text-align: right;\n",
       "    }\n",
       "</style>\n",
       "<table border=\"1\" class=\"dataframe\">\n",
       "  <thead>\n",
       "    <tr style=\"text-align: right;\">\n",
       "      <th></th>\n",
       "      <th>registration_year</th>\n",
       "      <th>power</th>\n",
       "      <th>kilometer</th>\n",
       "      <th>vehicle_type_convertible</th>\n",
       "      <th>vehicle_type_coupe</th>\n",
       "      <th>vehicle_type_other</th>\n",
       "      <th>vehicle_type_sedan</th>\n",
       "      <th>vehicle_type_small</th>\n",
       "      <th>vehicle_type_suv</th>\n",
       "      <th>vehicle_type_wagon</th>\n",
       "      <th>...</th>\n",
       "      <th>brand_skoda</th>\n",
       "      <th>brand_smart</th>\n",
       "      <th>brand_sonstige_autos</th>\n",
       "      <th>brand_subaru</th>\n",
       "      <th>brand_suzuki</th>\n",
       "      <th>brand_toyota</th>\n",
       "      <th>brand_trabant</th>\n",
       "      <th>brand_volkswagen</th>\n",
       "      <th>brand_volvo</th>\n",
       "      <th>repaired_yes</th>\n",
       "    </tr>\n",
       "  </thead>\n",
       "  <tbody>\n",
       "    <tr>\n",
       "      <th>224692</th>\n",
       "      <td>-2.114557</td>\n",
       "      <td>0.485597</td>\n",
       "      <td>0.619508</td>\n",
       "      <td>-0.270711</td>\n",
       "      <td>-0.235978</td>\n",
       "      <td>-0.163012</td>\n",
       "      <td>1.586928</td>\n",
       "      <td>-0.542579</td>\n",
       "      <td>-0.20408</td>\n",
       "      <td>-0.508428</td>\n",
       "      <td>...</td>\n",
       "      <td>-0.135195</td>\n",
       "      <td>-0.129367</td>\n",
       "      <td>-0.076537</td>\n",
       "      <td>-0.048252</td>\n",
       "      <td>-0.084006</td>\n",
       "      <td>-0.124323</td>\n",
       "      <td>-0.030295</td>\n",
       "      <td>-0.504296</td>\n",
       "      <td>-0.100772</td>\n",
       "      <td>-0.333201</td>\n",
       "    </tr>\n",
       "    <tr>\n",
       "      <th>45401</th>\n",
       "      <td>-0.794621</td>\n",
       "      <td>-0.241113</td>\n",
       "      <td>0.619508</td>\n",
       "      <td>-0.270711</td>\n",
       "      <td>-0.235978</td>\n",
       "      <td>-0.163012</td>\n",
       "      <td>1.586928</td>\n",
       "      <td>-0.542579</td>\n",
       "      <td>-0.20408</td>\n",
       "      <td>-0.508428</td>\n",
       "      <td>...</td>\n",
       "      <td>-0.135195</td>\n",
       "      <td>-0.129367</td>\n",
       "      <td>-0.076537</td>\n",
       "      <td>-0.048252</td>\n",
       "      <td>-0.084006</td>\n",
       "      <td>-0.124323</td>\n",
       "      <td>-0.030295</td>\n",
       "      <td>-0.504296</td>\n",
       "      <td>-0.100772</td>\n",
       "      <td>-0.333201</td>\n",
       "    </tr>\n",
       "    <tr>\n",
       "      <th>178267</th>\n",
       "      <td>1.020291</td>\n",
       "      <td>-0.023100</td>\n",
       "      <td>-1.777718</td>\n",
       "      <td>-0.270711</td>\n",
       "      <td>-0.235978</td>\n",
       "      <td>-0.163012</td>\n",
       "      <td>1.586928</td>\n",
       "      <td>-0.542579</td>\n",
       "      <td>-0.20408</td>\n",
       "      <td>-0.508428</td>\n",
       "      <td>...</td>\n",
       "      <td>-0.135195</td>\n",
       "      <td>-0.129367</td>\n",
       "      <td>-0.076537</td>\n",
       "      <td>-0.048252</td>\n",
       "      <td>-0.084006</td>\n",
       "      <td>-0.124323</td>\n",
       "      <td>-0.030295</td>\n",
       "      <td>1.982962</td>\n",
       "      <td>-0.100772</td>\n",
       "      <td>-0.333201</td>\n",
       "    </tr>\n",
       "    <tr>\n",
       "      <th>164028</th>\n",
       "      <td>0.690307</td>\n",
       "      <td>-1.240340</td>\n",
       "      <td>0.619508</td>\n",
       "      <td>-0.270711</td>\n",
       "      <td>-0.235978</td>\n",
       "      <td>-0.163012</td>\n",
       "      <td>-0.630148</td>\n",
       "      <td>1.843049</td>\n",
       "      <td>-0.20408</td>\n",
       "      <td>-0.508428</td>\n",
       "      <td>...</td>\n",
       "      <td>-0.135195</td>\n",
       "      <td>-0.129367</td>\n",
       "      <td>-0.076537</td>\n",
       "      <td>-0.048252</td>\n",
       "      <td>-0.084006</td>\n",
       "      <td>-0.124323</td>\n",
       "      <td>-0.030295</td>\n",
       "      <td>1.982962</td>\n",
       "      <td>-0.100772</td>\n",
       "      <td>-0.333201</td>\n",
       "    </tr>\n",
       "    <tr>\n",
       "      <th>89562</th>\n",
       "      <td>0.690307</td>\n",
       "      <td>1.103301</td>\n",
       "      <td>-0.712284</td>\n",
       "      <td>-0.270711</td>\n",
       "      <td>-0.235978</td>\n",
       "      <td>-0.163012</td>\n",
       "      <td>1.586928</td>\n",
       "      <td>-0.542579</td>\n",
       "      <td>-0.20408</td>\n",
       "      <td>-0.508428</td>\n",
       "      <td>...</td>\n",
       "      <td>-0.135195</td>\n",
       "      <td>-0.129367</td>\n",
       "      <td>-0.076537</td>\n",
       "      <td>-0.048252</td>\n",
       "      <td>-0.084006</td>\n",
       "      <td>-0.124323</td>\n",
       "      <td>-0.030295</td>\n",
       "      <td>-0.504296</td>\n",
       "      <td>-0.100772</td>\n",
       "      <td>-0.333201</td>\n",
       "    </tr>\n",
       "  </tbody>\n",
       "</table>\n",
       "<p>5 rows × 306 columns</p>\n",
       "</div>"
      ],
      "text/plain": [
       "        registration_year     power  kilometer  vehicle_type_convertible  \\\n",
       "224692          -2.114557  0.485597   0.619508                 -0.270711   \n",
       "45401           -0.794621 -0.241113   0.619508                 -0.270711   \n",
       "178267           1.020291 -0.023100  -1.777718                 -0.270711   \n",
       "164028           0.690307 -1.240340   0.619508                 -0.270711   \n",
       "89562            0.690307  1.103301  -0.712284                 -0.270711   \n",
       "\n",
       "        vehicle_type_coupe  vehicle_type_other  vehicle_type_sedan  \\\n",
       "224692           -0.235978           -0.163012            1.586928   \n",
       "45401            -0.235978           -0.163012            1.586928   \n",
       "178267           -0.235978           -0.163012            1.586928   \n",
       "164028           -0.235978           -0.163012           -0.630148   \n",
       "89562            -0.235978           -0.163012            1.586928   \n",
       "\n",
       "        vehicle_type_small  vehicle_type_suv  vehicle_type_wagon  ...  \\\n",
       "224692           -0.542579          -0.20408           -0.508428  ...   \n",
       "45401            -0.542579          -0.20408           -0.508428  ...   \n",
       "178267           -0.542579          -0.20408           -0.508428  ...   \n",
       "164028            1.843049          -0.20408           -0.508428  ...   \n",
       "89562            -0.542579          -0.20408           -0.508428  ...   \n",
       "\n",
       "        brand_skoda  brand_smart  brand_sonstige_autos  brand_subaru  \\\n",
       "224692    -0.135195    -0.129367             -0.076537     -0.048252   \n",
       "45401     -0.135195    -0.129367             -0.076537     -0.048252   \n",
       "178267    -0.135195    -0.129367             -0.076537     -0.048252   \n",
       "164028    -0.135195    -0.129367             -0.076537     -0.048252   \n",
       "89562     -0.135195    -0.129367             -0.076537     -0.048252   \n",
       "\n",
       "        brand_suzuki  brand_toyota  brand_trabant  brand_volkswagen  \\\n",
       "224692     -0.084006     -0.124323      -0.030295         -0.504296   \n",
       "45401      -0.084006     -0.124323      -0.030295         -0.504296   \n",
       "178267     -0.084006     -0.124323      -0.030295          1.982962   \n",
       "164028     -0.084006     -0.124323      -0.030295          1.982962   \n",
       "89562      -0.084006     -0.124323      -0.030295         -0.504296   \n",
       "\n",
       "        brand_volvo  repaired_yes  \n",
       "224692    -0.100772     -0.333201  \n",
       "45401     -0.100772     -0.333201  \n",
       "178267    -0.100772     -0.333201  \n",
       "164028    -0.100772     -0.333201  \n",
       "89562     -0.100772     -0.333201  \n",
       "\n",
       "[5 rows x 306 columns]"
      ]
     },
     "execution_count": 89,
     "metadata": {},
     "output_type": "execute_result"
    }
   ],
   "source": [
    "features_train_ohe.head()"
   ]
  },
  {
   "cell_type": "markdown",
   "metadata": {},
   "source": [
    "### Линейная регрессия"
   ]
  },
  {
   "cell_type": "markdown",
   "metadata": {},
   "source": [
    "Подбор модели начнем с линейной регрессии. Обучим модель на обучающей выборке, найдем предсказания и rmse"
   ]
  },
  {
   "cell_type": "code",
   "execution_count": 90,
   "metadata": {},
   "outputs": [],
   "source": [
    "def rmse_count(target, predictions):\n",
    "    return mean_squared_error(target, predictions)**0.5"
   ]
  },
  {
   "cell_type": "code",
   "execution_count": 92,
   "metadata": {},
   "outputs": [
    {
     "data": {
      "text/plain": [
       "2536.2103761141348"
      ]
     },
     "execution_count": 92,
     "metadata": {},
     "output_type": "execute_result"
    }
   ],
   "source": [
    "model = LinearRegression()\n",
    "model.fit(features_train_ohe, target_train_ohe)\n",
    "predictions = model.predict(features_test_ohe)\n",
    "rmse_count(target_test_ohe, predictions)"
   ]
  },
  {
   "cell_type": "markdown",
   "metadata": {},
   "source": [
    "Для следующей модели закодируем признаки с помощью порядкового кодирования"
   ]
  },
  {
   "cell_type": "markdown",
   "metadata": {},
   "source": [
    "Разделим признаки"
   ]
  },
  {
   "cell_type": "code",
   "execution_count": 93,
   "metadata": {},
   "outputs": [
    {
     "name": "stdout",
     "output_type": "stream",
     "text": [
      "(179949, 9)\n",
      "(59983, 9)\n"
     ]
    }
   ],
   "source": [
    "target_oe = data['price']\n",
    "features_oe = data.drop('price', axis=1)\n",
    "features_train_oe, features_test_oe, target_train_oe, target_test_oe = train_test_split(features_oe, target_oe, \n",
    "                                                                                        test_size=0.25, random_state=12345) \n",
    "\n",
    "print(features_train_oe.shape)\n",
    "print(features_test_oe.shape)"
   ]
  },
  {
   "cell_type": "code",
   "execution_count": 94,
   "metadata": {},
   "outputs": [],
   "source": [
    "oencoder = OrdinalEncoder()\n",
    "features_train_oe = oencoder.fit_transform(features_train_oe)\n",
    "features_test_oe = oencoder.transform(features_test_oe)"
   ]
  },
  {
   "cell_type": "markdown",
   "metadata": {},
   "source": [
    "### Случайный лес"
   ]
  },
  {
   "cell_type": "code",
   "execution_count": 96,
   "metadata": {},
   "outputs": [
    {
     "name": "stdout",
     "output_type": "stream",
     "text": [
      "Количество деревьев: 100\n",
      "RMSE для случайного леса: 2024.9343028348883\n",
      "\n",
      "Количество деревьев: 500\n",
      "RMSE для случайного леса: 2022.3422088212299\n",
      "\n",
      "Количество деревьев: 1000\n",
      "RMSE для случайного леса: 2022.0324232823855\n",
      "\n",
      "\n",
      "Wall time: 17min 22s\n"
     ]
    }
   ],
   "source": [
    "%%time\n",
    "for est in [100, 500, 1000]:\n",
    "    model = RandomForestRegressor(random_state=12345, n_estimators=est, max_depth=9)\n",
    "    model.fit(features_train_oe, target_train_oe)\n",
    "    predictions = model.predict(features_test_oe)\n",
    "    rmse = rmse_count(target_test_oe, predictions)\n",
    "    print('Количество деревьев:', est)\n",
    "    print('RMSE для случайного леса:', rmse)\n",
    "    print('')\n",
    "print()"
   ]
  },
  {
   "cell_type": "markdown",
   "metadata": {},
   "source": [
    "Лучший результат показало 1000 деревьев - 2022"
   ]
  },
  {
   "cell_type": "markdown",
   "metadata": {},
   "source": [
    "### LightGBM\n",
    "\n",
    "Для следующей модели необходимо перевести категориальные признаки в тип `category`"
   ]
  },
  {
   "cell_type": "code",
   "execution_count": 97,
   "metadata": {},
   "outputs": [
    {
     "name": "stdout",
     "output_type": "stream",
     "text": [
      "(179949, 9)\n",
      "(59983, 9)\n"
     ]
    }
   ],
   "source": [
    "target = data['price']\n",
    "features = data.drop('price', axis=1)\n",
    "\n",
    "for c in features.columns:\n",
    "    col_type = features[c].dtype\n",
    "    if col_type == 'object':\n",
    "        features[c] = features[c].astype('category')\n",
    "\n",
    "features_train, features_test, target_train, target_test = train_test_split(features, target, test_size=0.25, random_state=12345) \n",
    "\n",
    "print(features_train.shape)\n",
    "print(features_test.shape)"
   ]
  },
  {
   "cell_type": "code",
   "execution_count": 99,
   "metadata": {},
   "outputs": [],
   "source": [
    "param_grid = {'n_estimators': [100, 200, 300], 'num_leaves': [7, 15, 31]}"
   ]
  },
  {
   "cell_type": "code",
   "execution_count": 100,
   "metadata": {},
   "outputs": [
    {
     "name": "stdout",
     "output_type": "stream",
     "text": [
      "Fitting 3 folds for each of 9 candidates, totalling 27 fits\n",
      "[CV 1/3] END n_estimators=100, num_leaves=7;, score=-1737.712 total time=   1.3s\n",
      "[CV 2/3] END n_estimators=100, num_leaves=7;, score=-1749.052 total time=   1.2s\n",
      "[CV 3/3] END n_estimators=100, num_leaves=7;, score=-1763.219 total time=   1.2s\n",
      "[CV 1/3] END n_estimators=100, num_leaves=15;, score=-1669.687 total time=   1.5s\n",
      "[CV 2/3] END n_estimators=100, num_leaves=15;, score=-1663.150 total time=   1.7s\n",
      "[CV 3/3] END n_estimators=100, num_leaves=15;, score=-1682.164 total time=   1.6s\n",
      "[CV 1/3] END n_estimators=100, num_leaves=31;, score=-1627.529 total time=   2.6s\n",
      "[CV 2/3] END n_estimators=100, num_leaves=31;, score=-1615.163 total time=   1.8s\n",
      "[CV 3/3] END n_estimators=100, num_leaves=31;, score=-1636.740 total time=   1.8s\n",
      "[CV 1/3] END n_estimators=200, num_leaves=7;, score=-1687.400 total time=   1.9s\n",
      "[CV 2/3] END n_estimators=200, num_leaves=7;, score=-1689.328 total time=   2.0s\n",
      "[CV 3/3] END n_estimators=200, num_leaves=7;, score=-1705.673 total time=   2.1s\n",
      "[CV 1/3] END n_estimators=200, num_leaves=15;, score=-1637.038 total time=   3.5s\n",
      "[CV 2/3] END n_estimators=200, num_leaves=15;, score=-1618.200 total time=   3.4s\n",
      "[CV 3/3] END n_estimators=200, num_leaves=15;, score=-1638.069 total time=   2.9s\n",
      "[CV 1/3] END n_estimators=200, num_leaves=31;, score=-1606.742 total time=   5.4s\n",
      "[CV 2/3] END n_estimators=200, num_leaves=31;, score=-1588.456 total time=   4.0s\n",
      "[CV 3/3] END n_estimators=200, num_leaves=31;, score=-1611.506 total time=   3.5s\n",
      "[CV 1/3] END n_estimators=300, num_leaves=7;, score=-1662.431 total time=   2.6s\n",
      "[CV 2/3] END n_estimators=300, num_leaves=7;, score=-1654.302 total time=   2.9s\n",
      "[CV 3/3] END n_estimators=300, num_leaves=7;, score=-1673.081 total time=   3.2s\n",
      "[CV 1/3] END n_estimators=300, num_leaves=15;, score=-1623.107 total time=   6.0s\n",
      "[CV 2/3] END n_estimators=300, num_leaves=15;, score=-1601.416 total time=   4.3s\n",
      "[CV 3/3] END n_estimators=300, num_leaves=15;, score=-1619.971 total time=   3.5s\n",
      "[CV 1/3] END n_estimators=300, num_leaves=31;, score=-1595.145 total time=   4.8s\n",
      "[CV 2/3] END n_estimators=300, num_leaves=31;, score=-1576.058 total time=   4.6s\n",
      "[CV 3/3] END n_estimators=300, num_leaves=31;, score=-1600.720 total time=   5.4s\n"
     ]
    },
    {
     "data": {
      "text/plain": [
       "{'n_estimators': 300, 'num_leaves': 31}"
      ]
     },
     "metadata": {},
     "output_type": "display_data"
    },
    {
     "data": {
      "text/plain": [
       "1590.640972200553"
      ]
     },
     "metadata": {},
     "output_type": "display_data"
    }
   ],
   "source": [
    "model = lgb.LGBMRegressor(random_state=12345)\n",
    "\n",
    "tuning_model=GridSearchCV(estimator=model, param_grid=param_grid, scoring='neg_root_mean_squared_error', cv=3, verbose=3)\n",
    "\n",
    "tuning_model.fit(features_train, target_train)\n",
    "display(tuning_model.best_params_)\n",
    "display(tuning_model.best_score_*-1)"
   ]
  },
  {
   "cell_type": "markdown",
   "metadata": {},
   "source": [
    "Протестируем модель на тестоовй выборке"
   ]
  },
  {
   "cell_type": "code",
   "execution_count": 101,
   "metadata": {},
   "outputs": [
    {
     "data": {
      "text/plain": [
       "1566.5763086683214"
      ]
     },
     "execution_count": 101,
     "metadata": {},
     "output_type": "execute_result"
    }
   ],
   "source": [
    "model = lgb.LGBMRegressor(random_state=12345, n_estimators=300, num_leaves=31)\n",
    "model.fit(features_train, target_train)\n",
    "predictions = model.predict(features_test)\n",
    "rmse_count(target_test, predictions)"
   ]
  },
  {
   "cell_type": "markdown",
   "metadata": {},
   "source": [
    "Результат модели 1567"
   ]
  },
  {
   "cell_type": "markdown",
   "metadata": {},
   "source": [
    "### Вывод\n",
    "\n",
    "Были обучени и протестированы три модели: линейная регрессия, случайный лес и lightGBM. Лучший результат rmse показала модель lightGBM 1567"
   ]
  },
  {
   "cell_type": "markdown",
   "metadata": {},
   "source": [
    "## Анализ моделей"
   ]
  },
  {
   "cell_type": "markdown",
   "metadata": {},
   "source": [
    "Для каждой модели найдем время обучения и предсказания"
   ]
  },
  {
   "cell_type": "code",
   "execution_count": 102,
   "metadata": {},
   "outputs": [
    {
     "name": "stdout",
     "output_type": "stream",
     "text": [
      "Wall time: 8.39 s\n"
     ]
    },
    {
     "data": {
      "text/plain": [
       "LinearRegression()"
      ]
     },
     "execution_count": 102,
     "metadata": {},
     "output_type": "execute_result"
    }
   ],
   "source": [
    "%%time\n",
    "\n",
    "model_lr = LinearRegression()\n",
    "model_lr.fit(features_train_ohe, target_train_ohe)"
   ]
  },
  {
   "cell_type": "code",
   "execution_count": 103,
   "metadata": {},
   "outputs": [
    {
     "name": "stdout",
     "output_type": "stream",
     "text": [
      "Wall time: 64 ms\n"
     ]
    }
   ],
   "source": [
    "%%time\n",
    "\n",
    "predictions_train_ohe = model_lr.predict(features_test_ohe)"
   ]
  },
  {
   "cell_type": "code",
   "execution_count": 104,
   "metadata": {},
   "outputs": [
    {
     "name": "stdout",
     "output_type": "stream",
     "text": [
      "Wall time: 10min 27s\n"
     ]
    },
    {
     "data": {
      "text/plain": [
       "RandomForestRegressor(max_depth=9, n_estimators=1000, random_state=12345)"
      ]
     },
     "execution_count": 104,
     "metadata": {},
     "output_type": "execute_result"
    }
   ],
   "source": [
    "%%time\n",
    "\n",
    "model_rf = RandomForestRegressor(random_state=12345, max_depth=9, n_estimators=1000)\n",
    "model_rf.fit(features_train_oe, target_train_oe)"
   ]
  },
  {
   "cell_type": "code",
   "execution_count": 105,
   "metadata": {},
   "outputs": [
    {
     "name": "stdout",
     "output_type": "stream",
     "text": [
      "Wall time: 11.3 s\n"
     ]
    }
   ],
   "source": [
    "%%time\n",
    "\n",
    "predictions_train_oe = model_rf.predict(features_test_oe)"
   ]
  },
  {
   "cell_type": "code",
   "execution_count": 106,
   "metadata": {},
   "outputs": [
    {
     "name": "stdout",
     "output_type": "stream",
     "text": [
      "Wall time: 4.11 s\n"
     ]
    },
    {
     "data": {
      "text/plain": [
       "LGBMRegressor(n_estimators=300, random_state=12345)"
      ]
     },
     "execution_count": 106,
     "metadata": {},
     "output_type": "execute_result"
    }
   ],
   "source": [
    "%%time\n",
    "model_lgb = lgb.LGBMRegressor(random_state=12345, n_estimators=300, num_leaves=31)\n",
    "model_lgb.fit(features_train, target_train)"
   ]
  },
  {
   "cell_type": "code",
   "execution_count": 107,
   "metadata": {},
   "outputs": [
    {
     "name": "stdout",
     "output_type": "stream",
     "text": [
      "Wall time: 2.04 s\n"
     ]
    }
   ],
   "source": [
    "%%time\n",
    "\n",
    "predictions_train = model_lgb.predict(features_test)"
   ]
  },
  {
   "cell_type": "code",
   "execution_count": 108,
   "metadata": {},
   "outputs": [
    {
     "data": {
      "text/html": [
       "<div>\n",
       "<style scoped>\n",
       "    .dataframe tbody tr th:only-of-type {\n",
       "        vertical-align: middle;\n",
       "    }\n",
       "\n",
       "    .dataframe tbody tr th {\n",
       "        vertical-align: top;\n",
       "    }\n",
       "\n",
       "    .dataframe thead th {\n",
       "        text-align: right;\n",
       "    }\n",
       "</style>\n",
       "<table border=\"1\" class=\"dataframe\">\n",
       "  <thead>\n",
       "    <tr style=\"text-align: right;\">\n",
       "      <th></th>\n",
       "      <th>Время обучения</th>\n",
       "      <th>Время предсказания</th>\n",
       "      <th>RMSE</th>\n",
       "    </tr>\n",
       "  </thead>\n",
       "  <tbody>\n",
       "    <tr>\n",
       "      <th>Linear Regression</th>\n",
       "      <td>8.39 s</td>\n",
       "      <td>64 ms</td>\n",
       "      <td>2536.2103761141348</td>\n",
       "    </tr>\n",
       "    <tr>\n",
       "      <th>Random Forest</th>\n",
       "      <td>10min 27s</td>\n",
       "      <td>11.3 s</td>\n",
       "      <td>2022.0324232823855</td>\n",
       "    </tr>\n",
       "    <tr>\n",
       "      <th>LightGBM</th>\n",
       "      <td>4.11 s</td>\n",
       "      <td>2.04 s</td>\n",
       "      <td>1566.5763086683214</td>\n",
       "    </tr>\n",
       "  </tbody>\n",
       "</table>\n",
       "</div>"
      ],
      "text/plain": [
       "                  Время обучения Время предсказания                RMSE\n",
       "Linear Regression         8.39 s              64 ms  2536.2103761141348\n",
       "Random Forest          10min 27s             11.3 s  2022.0324232823855\n",
       "LightGBM                  4.11 s             2.04 s  1566.5763086683214"
      ]
     },
     "execution_count": 108,
     "metadata": {},
     "output_type": "execute_result"
    }
   ],
   "source": [
    "tabledata = [[\"Linear Regression\", \"8.39 s\", \"64 ms\", '2536.2103761141348'],\n",
    "         [\"Random Forest\", \"10min 27s\", \"11.3 s\", '2022.0324232823855'],\n",
    "         [\"LightGBM\", \"4.11 s\", \"2.04 s\", '1566.5763086683214']]\n",
    "df= pd.DataFrame(tabledata, columns=[\"модель\",\"Время обучения\", \"Время предсказания\", 'RMSE'])\n",
    "df = df.set_index('модель')\n",
    "df.index.names = [None]\n",
    "df"
   ]
  },
  {
   "cell_type": "markdown",
   "metadata": {},
   "source": [
    "Критерии, которые важны заказчику:\n",
    "- качество предсказания;\n",
    "- время обучения модели;\n",
    "- время предсказания модели.\n",
    "\n",
    "Самой качественной моделью оказалась **LightGBM**\n",
    "\n",
    "Самой быстрой в обучении моделью оказалась **LightGBM**\n",
    "\n",
    "Самой быстрой в предсказании моделью оказалась **Linear Regression**\n",
    "\n",
    "В двух из трёх пунктов лидирует модель LightGBM"
   ]
  }
 ],
 "metadata": {
  "ExecuteTimeLog": [
   {
    "duration": 63,
    "start_time": "2023-04-26T09:10:53.827Z"
   },
   {
    "duration": 1788,
    "start_time": "2023-04-26T09:12:46.535Z"
   },
   {
    "duration": 1216,
    "start_time": "2023-04-26T09:12:49.798Z"
   },
   {
    "duration": 136,
    "start_time": "2023-04-26T09:12:58.455Z"
   },
   {
    "duration": 3,
    "start_time": "2023-04-26T09:14:26.095Z"
   },
   {
    "duration": 167,
    "start_time": "2023-04-26T09:14:34.620Z"
   },
   {
    "duration": 106,
    "start_time": "2023-04-26T09:15:15.228Z"
   },
   {
    "duration": 764,
    "start_time": "2023-04-26T09:15:43.189Z"
   },
   {
    "duration": 162,
    "start_time": "2023-04-26T09:15:44.546Z"
   },
   {
    "duration": 5,
    "start_time": "2023-04-26T09:16:01.626Z"
   },
   {
    "duration": 111,
    "start_time": "2023-04-26T09:16:08.221Z"
   },
   {
    "duration": 56,
    "start_time": "2023-04-26T09:16:18.627Z"
   },
   {
    "duration": 16,
    "start_time": "2023-04-26T09:17:08.232Z"
   },
   {
    "duration": 101,
    "start_time": "2023-04-26T09:17:48.064Z"
   },
   {
    "duration": 20,
    "start_time": "2023-04-26T09:36:48.273Z"
   },
   {
    "duration": 33,
    "start_time": "2023-04-26T09:37:35.302Z"
   },
   {
    "duration": 73,
    "start_time": "2023-04-26T09:39:43.572Z"
   },
   {
    "duration": 61,
    "start_time": "2023-04-26T09:41:42.793Z"
   },
   {
    "duration": 3,
    "start_time": "2023-04-26T09:41:51.304Z"
   },
   {
    "duration": 792,
    "start_time": "2023-04-26T09:47:03.713Z"
   },
   {
    "duration": 124,
    "start_time": "2023-04-26T09:47:05.153Z"
   },
   {
    "duration": 5,
    "start_time": "2023-04-26T09:47:06.031Z"
   },
   {
    "duration": 39,
    "start_time": "2023-04-26T09:47:06.593Z"
   },
   {
    "duration": 15,
    "start_time": "2023-04-26T09:47:07.073Z"
   },
   {
    "duration": 75,
    "start_time": "2023-04-26T09:47:07.607Z"
   },
   {
    "duration": 21,
    "start_time": "2023-04-26T09:47:08.079Z"
   },
   {
    "duration": 33,
    "start_time": "2023-04-26T09:47:08.593Z"
   },
   {
    "duration": 83,
    "start_time": "2023-04-26T09:47:09.137Z"
   },
   {
    "duration": 70,
    "start_time": "2023-04-26T09:47:09.603Z"
   },
   {
    "duration": 805,
    "start_time": "2023-04-26T09:47:16.471Z"
   },
   {
    "duration": 123,
    "start_time": "2023-04-26T09:47:17.660Z"
   },
   {
    "duration": 5,
    "start_time": "2023-04-26T09:47:18.503Z"
   },
   {
    "duration": 40,
    "start_time": "2023-04-26T09:47:19.383Z"
   },
   {
    "duration": 11,
    "start_time": "2023-04-26T09:47:20.657Z"
   },
   {
    "duration": 76,
    "start_time": "2023-04-26T09:47:22.039Z"
   },
   {
    "duration": 19,
    "start_time": "2023-04-26T09:47:24.400Z"
   },
   {
    "duration": 33,
    "start_time": "2023-04-26T09:47:26.401Z"
   },
   {
    "duration": 83,
    "start_time": "2023-04-26T09:47:29.802Z"
   },
   {
    "duration": 92,
    "start_time": "2023-04-26T09:48:15.603Z"
   },
   {
    "duration": 54,
    "start_time": "2023-04-26T09:48:16.743Z"
   },
   {
    "duration": 741,
    "start_time": "2023-04-26T09:52:14.031Z"
   },
   {
    "duration": 131,
    "start_time": "2023-04-26T09:52:15.039Z"
   },
   {
    "duration": 4,
    "start_time": "2023-04-26T09:52:15.784Z"
   },
   {
    "duration": 37,
    "start_time": "2023-04-26T09:52:16.319Z"
   },
   {
    "duration": 10,
    "start_time": "2023-04-26T09:52:16.880Z"
   },
   {
    "duration": 75,
    "start_time": "2023-04-26T09:52:17.960Z"
   },
   {
    "duration": 20,
    "start_time": "2023-04-26T09:52:18.871Z"
   },
   {
    "duration": 38,
    "start_time": "2023-04-26T09:52:21.056Z"
   },
   {
    "duration": 76,
    "start_time": "2023-04-26T09:52:23.061Z"
   },
   {
    "duration": 14,
    "start_time": "2023-04-26T09:53:14.247Z"
   },
   {
    "duration": 126,
    "start_time": "2023-04-26T09:53:46.309Z"
   },
   {
    "duration": 83,
    "start_time": "2023-04-26T09:54:26.636Z"
   },
   {
    "duration": 19,
    "start_time": "2023-04-26T10:17:39.126Z"
   },
   {
    "duration": 31,
    "start_time": "2023-04-26T10:20:35.027Z"
   },
   {
    "duration": 11,
    "start_time": "2023-04-26T10:24:45.664Z"
   },
   {
    "duration": 23,
    "start_time": "2023-04-26T10:24:53.547Z"
   },
   {
    "duration": 19,
    "start_time": "2023-04-26T10:25:14.999Z"
   },
   {
    "duration": 27,
    "start_time": "2023-04-26T10:25:51.864Z"
   },
   {
    "duration": 47,
    "start_time": "2023-04-26T10:29:20.452Z"
   },
   {
    "duration": 29,
    "start_time": "2023-04-26T10:32:36.962Z"
   },
   {
    "duration": 27,
    "start_time": "2023-04-26T10:33:16.564Z"
   },
   {
    "duration": 19,
    "start_time": "2023-04-26T10:34:26.323Z"
   },
   {
    "duration": 22,
    "start_time": "2023-04-26T10:34:57.275Z"
   },
   {
    "duration": 19,
    "start_time": "2023-04-26T10:35:42.913Z"
   },
   {
    "duration": 38,
    "start_time": "2023-04-26T10:36:25.033Z"
   },
   {
    "duration": 28,
    "start_time": "2023-04-26T10:37:07.944Z"
   },
   {
    "duration": 72,
    "start_time": "2023-04-26T10:37:48.374Z"
   },
   {
    "duration": 70,
    "start_time": "2023-04-26T10:38:19.873Z"
   },
   {
    "duration": 1627,
    "start_time": "2023-04-26T10:39:37.004Z"
   },
   {
    "duration": 17,
    "start_time": "2023-04-26T10:39:49.164Z"
   },
   {
    "duration": 121,
    "start_time": "2023-04-26T10:43:49.173Z"
   },
   {
    "duration": 122,
    "start_time": "2023-04-26T10:44:00.477Z"
   },
   {
    "duration": 8,
    "start_time": "2023-04-26T10:46:15.576Z"
   },
   {
    "duration": 30,
    "start_time": "2023-04-26T10:48:31.110Z"
   },
   {
    "duration": 176,
    "start_time": "2023-04-26T10:49:02.301Z"
   },
   {
    "duration": 42,
    "start_time": "2023-04-26T10:50:04.107Z"
   },
   {
    "duration": 134,
    "start_time": "2023-04-26T10:50:04.922Z"
   },
   {
    "duration": 127,
    "start_time": "2023-04-26T10:51:02.337Z"
   },
   {
    "duration": 23,
    "start_time": "2023-04-26T10:54:41.501Z"
   },
   {
    "duration": 130,
    "start_time": "2023-04-26T10:54:56.673Z"
   },
   {
    "duration": 1813,
    "start_time": "2023-04-26T10:57:10.608Z"
   },
   {
    "duration": 157,
    "start_time": "2023-04-26T10:57:20.831Z"
   },
   {
    "duration": 174,
    "start_time": "2023-04-26T10:58:50.285Z"
   },
   {
    "duration": 24,
    "start_time": "2023-04-26T10:59:29.235Z"
   },
   {
    "duration": 147,
    "start_time": "2023-04-26T10:59:37.075Z"
   },
   {
    "duration": 74,
    "start_time": "2023-04-26T11:00:00.209Z"
   },
   {
    "duration": 10,
    "start_time": "2023-04-26T11:02:14.618Z"
   },
   {
    "duration": 169,
    "start_time": "2023-04-26T11:02:18.876Z"
   },
   {
    "duration": 4,
    "start_time": "2023-04-26T11:02:34.479Z"
   },
   {
    "duration": 846,
    "start_time": "2023-04-26T11:02:35.230Z"
   },
   {
    "duration": 189,
    "start_time": "2023-04-26T11:02:36.078Z"
   },
   {
    "duration": 5,
    "start_time": "2023-04-26T11:02:37.110Z"
   },
   {
    "duration": 48,
    "start_time": "2023-04-26T11:02:37.646Z"
   },
   {
    "duration": 11,
    "start_time": "2023-04-26T11:02:38.022Z"
   },
   {
    "duration": 85,
    "start_time": "2023-04-26T11:02:38.414Z"
   },
   {
    "duration": 72,
    "start_time": "2023-04-26T11:02:38.783Z"
   },
   {
    "duration": 128,
    "start_time": "2023-04-26T11:02:39.175Z"
   },
   {
    "duration": 76,
    "start_time": "2023-04-26T11:02:39.563Z"
   },
   {
    "duration": 42,
    "start_time": "2023-04-26T11:02:39.927Z"
   },
   {
    "duration": 41,
    "start_time": "2023-04-26T11:02:40.326Z"
   },
   {
    "duration": 36,
    "start_time": "2023-04-26T11:02:40.695Z"
   },
   {
    "duration": 40,
    "start_time": "2023-04-26T11:02:41.169Z"
   },
   {
    "duration": 24,
    "start_time": "2023-04-26T11:02:43.572Z"
   },
   {
    "duration": 22,
    "start_time": "2023-04-26T11:02:43.901Z"
   },
   {
    "duration": 29,
    "start_time": "2023-04-26T11:02:46.046Z"
   },
   {
    "duration": 21,
    "start_time": "2023-04-26T11:02:46.468Z"
   },
   {
    "duration": 34,
    "start_time": "2023-04-26T11:02:46.822Z"
   },
   {
    "duration": 31,
    "start_time": "2023-04-26T11:02:47.247Z"
   },
   {
    "duration": 22,
    "start_time": "2023-04-26T11:02:47.605Z"
   },
   {
    "duration": 89,
    "start_time": "2023-04-26T11:02:48.150Z"
   },
   {
    "duration": 65,
    "start_time": "2023-04-26T11:02:49.899Z"
   },
   {
    "duration": 25,
    "start_time": "2023-04-26T11:04:10.884Z"
   },
   {
    "duration": 142,
    "start_time": "2023-04-26T11:04:19.699Z"
   },
   {
    "duration": 8,
    "start_time": "2023-04-26T11:04:35.315Z"
   },
   {
    "duration": 32,
    "start_time": "2023-04-26T11:04:48.683Z"
   },
   {
    "duration": 145,
    "start_time": "2023-04-26T11:04:49.618Z"
   },
   {
    "duration": 137,
    "start_time": "2023-04-26T11:04:55.234Z"
   },
   {
    "duration": 32,
    "start_time": "2023-04-26T11:05:04.682Z"
   },
   {
    "duration": 139,
    "start_time": "2023-04-26T11:05:06.842Z"
   },
   {
    "duration": 140,
    "start_time": "2023-04-26T11:05:17.877Z"
   },
   {
    "duration": 20,
    "start_time": "2023-04-26T11:05:19.018Z"
   },
   {
    "duration": 124,
    "start_time": "2023-04-26T11:05:19.506Z"
   },
   {
    "duration": 60,
    "start_time": "2023-04-26T11:05:28.834Z"
   },
   {
    "duration": 316,
    "start_time": "2023-04-26T11:06:25.481Z"
   },
   {
    "duration": 95,
    "start_time": "2023-04-26T11:06:35.224Z"
   },
   {
    "duration": 375,
    "start_time": "2023-04-26T11:08:52.237Z"
   },
   {
    "duration": 288,
    "start_time": "2023-04-26T11:11:11.976Z"
   },
   {
    "duration": 827,
    "start_time": "2023-04-26T11:58:35.036Z"
   },
   {
    "duration": 141,
    "start_time": "2023-04-26T11:58:35.865Z"
   },
   {
    "duration": 5,
    "start_time": "2023-04-26T11:58:36.588Z"
   },
   {
    "duration": 45,
    "start_time": "2023-04-26T11:58:37.348Z"
   },
   {
    "duration": 10,
    "start_time": "2023-04-26T11:58:37.717Z"
   },
   {
    "duration": 85,
    "start_time": "2023-04-26T11:58:38.084Z"
   },
   {
    "duration": 85,
    "start_time": "2023-04-26T11:58:38.477Z"
   },
   {
    "duration": 116,
    "start_time": "2023-04-26T11:58:38.872Z"
   },
   {
    "duration": 90,
    "start_time": "2023-04-26T11:58:39.612Z"
   },
   {
    "duration": 22,
    "start_time": "2023-04-26T11:58:40.293Z"
   },
   {
    "duration": 18,
    "start_time": "2023-04-26T11:58:40.723Z"
   },
   {
    "duration": 29,
    "start_time": "2023-04-26T11:58:41.080Z"
   },
   {
    "duration": 42,
    "start_time": "2023-04-26T11:58:41.963Z"
   },
   {
    "duration": 23,
    "start_time": "2023-04-26T11:58:43.767Z"
   },
   {
    "duration": 25,
    "start_time": "2023-04-26T11:58:44.781Z"
   },
   {
    "duration": 24,
    "start_time": "2023-04-26T11:58:45.532Z"
   },
   {
    "duration": 20,
    "start_time": "2023-04-26T11:58:46.492Z"
   },
   {
    "duration": 29,
    "start_time": "2023-04-26T11:58:46.940Z"
   },
   {
    "duration": 20,
    "start_time": "2023-04-26T11:58:49.473Z"
   },
   {
    "duration": 29,
    "start_time": "2023-04-26T11:58:49.793Z"
   },
   {
    "duration": 69,
    "start_time": "2023-04-26T11:58:50.369Z"
   },
   {
    "duration": 61,
    "start_time": "2023-04-26T11:58:51.117Z"
   },
   {
    "duration": 142,
    "start_time": "2023-04-26T11:58:58.588Z"
   },
   {
    "duration": 30,
    "start_time": "2023-04-26T11:59:03.080Z"
   },
   {
    "duration": 7,
    "start_time": "2023-04-26T11:59:03.412Z"
   },
   {
    "duration": 56,
    "start_time": "2023-04-26T11:59:05.619Z"
   },
   {
    "duration": 210,
    "start_time": "2023-04-26T11:59:11.428Z"
   },
   {
    "duration": 170,
    "start_time": "2023-04-26T11:59:21.708Z"
   },
   {
    "duration": 25,
    "start_time": "2023-04-26T11:59:25.020Z"
   },
   {
    "duration": 130,
    "start_time": "2023-04-26T11:59:29.806Z"
   },
   {
    "duration": 160,
    "start_time": "2023-04-26T11:59:37.976Z"
   },
   {
    "duration": 21,
    "start_time": "2023-04-26T11:59:41.185Z"
   },
   {
    "duration": 134,
    "start_time": "2023-04-26T11:59:45.037Z"
   },
   {
    "duration": 1529,
    "start_time": "2023-04-27T04:13:34.165Z"
   },
   {
    "duration": 1008,
    "start_time": "2023-04-27T04:13:36.633Z"
   },
   {
    "duration": 123,
    "start_time": "2023-04-27T04:13:38.449Z"
   },
   {
    "duration": 5,
    "start_time": "2023-04-27T04:13:40.337Z"
   },
   {
    "duration": 42,
    "start_time": "2023-04-27T04:13:40.987Z"
   },
   {
    "duration": 12,
    "start_time": "2023-04-27T04:13:41.570Z"
   },
   {
    "duration": 75,
    "start_time": "2023-04-27T04:13:43.025Z"
   },
   {
    "duration": 77,
    "start_time": "2023-04-27T04:13:44.016Z"
   },
   {
    "duration": 108,
    "start_time": "2023-04-27T04:13:51.297Z"
   },
   {
    "duration": 84,
    "start_time": "2023-04-27T04:13:52.305Z"
   },
   {
    "duration": 18,
    "start_time": "2023-04-27T04:13:55.688Z"
   },
   {
    "duration": 19,
    "start_time": "2023-04-27T04:13:56.640Z"
   },
   {
    "duration": 18,
    "start_time": "2023-04-27T04:13:58.683Z"
   },
   {
    "duration": 37,
    "start_time": "2023-04-27T04:13:59.383Z"
   },
   {
    "duration": 19,
    "start_time": "2023-04-27T04:14:01.590Z"
   },
   {
    "duration": 21,
    "start_time": "2023-04-27T04:14:02.228Z"
   },
   {
    "duration": 17,
    "start_time": "2023-04-27T04:14:03.464Z"
   },
   {
    "duration": 21,
    "start_time": "2023-04-27T04:14:03.935Z"
   },
   {
    "duration": 21,
    "start_time": "2023-04-27T04:14:04.984Z"
   },
   {
    "duration": 23,
    "start_time": "2023-04-27T04:14:05.391Z"
   },
   {
    "duration": 20,
    "start_time": "2023-04-27T04:14:06.255Z"
   },
   {
    "duration": 75,
    "start_time": "2023-04-27T04:14:06.751Z"
   },
   {
    "duration": 59,
    "start_time": "2023-04-27T04:14:08.032Z"
   },
   {
    "duration": 143,
    "start_time": "2023-04-27T04:14:17.586Z"
   },
   {
    "duration": 26,
    "start_time": "2023-04-27T04:14:18.943Z"
   },
   {
    "duration": 7,
    "start_time": "2023-04-27T04:14:19.296Z"
   },
   {
    "duration": 21,
    "start_time": "2023-04-27T04:14:20.432Z"
   },
   {
    "duration": 125,
    "start_time": "2023-04-27T04:14:20.647Z"
   },
   {
    "duration": 124,
    "start_time": "2023-04-27T04:14:26.327Z"
   },
   {
    "duration": 22,
    "start_time": "2023-04-27T04:14:28.168Z"
   },
   {
    "duration": 167,
    "start_time": "2023-04-27T04:14:28.551Z"
   },
   {
    "duration": 151,
    "start_time": "2023-04-27T04:14:30.703Z"
   },
   {
    "duration": 19,
    "start_time": "2023-04-27T04:14:32.166Z"
   },
   {
    "duration": 111,
    "start_time": "2023-04-27T04:14:32.599Z"
   },
   {
    "duration": 46,
    "start_time": "2023-04-27T04:14:34.495Z"
   },
   {
    "duration": 112,
    "start_time": "2023-04-27T04:14:36.127Z"
   },
   {
    "duration": 240,
    "start_time": "2023-04-27T04:14:38.187Z"
   },
   {
    "duration": 429,
    "start_time": "2023-04-27T04:14:40.719Z"
   },
   {
    "duration": 363,
    "start_time": "2023-04-27T04:14:43.591Z"
   },
   {
    "duration": 1525,
    "start_time": "2023-05-02T03:42:04.909Z"
   },
   {
    "duration": 2821,
    "start_time": "2023-05-02T03:42:08.380Z"
   },
   {
    "duration": 135,
    "start_time": "2023-05-02T03:42:13.731Z"
   },
   {
    "duration": 5,
    "start_time": "2023-05-02T03:42:15.675Z"
   },
   {
    "duration": 47,
    "start_time": "2023-05-02T03:42:16.516Z"
   },
   {
    "duration": 15,
    "start_time": "2023-05-02T03:42:17.271Z"
   },
   {
    "duration": 86,
    "start_time": "2023-05-02T03:42:18.611Z"
   },
   {
    "duration": 102,
    "start_time": "2023-05-02T03:42:19.812Z"
   },
   {
    "duration": 128,
    "start_time": "2023-05-02T03:42:21.146Z"
   },
   {
    "duration": 86,
    "start_time": "2023-05-02T03:42:21.569Z"
   },
   {
    "duration": 20,
    "start_time": "2023-05-02T03:42:23.107Z"
   },
   {
    "duration": 19,
    "start_time": "2023-05-02T03:42:24.051Z"
   },
   {
    "duration": 19,
    "start_time": "2023-05-02T03:42:24.658Z"
   },
   {
    "duration": 37,
    "start_time": "2023-05-02T03:42:26.747Z"
   },
   {
    "duration": 19,
    "start_time": "2023-05-02T03:42:28.530Z"
   },
   {
    "duration": 21,
    "start_time": "2023-05-02T03:42:29.178Z"
   },
   {
    "duration": 24,
    "start_time": "2023-05-02T03:42:30.634Z"
   },
   {
    "duration": 20,
    "start_time": "2023-05-02T03:42:31.043Z"
   },
   {
    "duration": 21,
    "start_time": "2023-05-02T03:42:32.258Z"
   },
   {
    "duration": 20,
    "start_time": "2023-05-02T03:42:32.670Z"
   },
   {
    "duration": 20,
    "start_time": "2023-05-02T03:42:33.658Z"
   },
   {
    "duration": 77,
    "start_time": "2023-05-02T03:42:34.114Z"
   },
   {
    "duration": 53,
    "start_time": "2023-05-02T03:42:35.434Z"
   },
   {
    "duration": 139,
    "start_time": "2023-05-02T03:42:36.474Z"
   },
   {
    "duration": 33,
    "start_time": "2023-05-02T03:42:37.706Z"
   },
   {
    "duration": 6,
    "start_time": "2023-05-02T03:42:38.193Z"
   },
   {
    "duration": 23,
    "start_time": "2023-05-02T03:42:39.658Z"
   },
   {
    "duration": 135,
    "start_time": "2023-05-02T03:42:39.978Z"
   },
   {
    "duration": 124,
    "start_time": "2023-05-02T03:42:41.410Z"
   },
   {
    "duration": 22,
    "start_time": "2023-05-02T03:42:42.482Z"
   },
   {
    "duration": 181,
    "start_time": "2023-05-02T03:42:43.930Z"
   },
   {
    "duration": 149,
    "start_time": "2023-05-02T03:42:45.481Z"
   },
   {
    "duration": 18,
    "start_time": "2023-05-02T03:42:46.290Z"
   },
   {
    "duration": 120,
    "start_time": "2023-05-02T03:42:48.305Z"
   },
   {
    "duration": 51,
    "start_time": "2023-05-02T03:42:49.842Z"
   },
   {
    "duration": 131,
    "start_time": "2023-05-02T03:42:50.953Z"
   },
   {
    "duration": 260,
    "start_time": "2023-05-02T03:42:51.681Z"
   },
   {
    "duration": 452,
    "start_time": "2023-05-02T03:42:53.010Z"
   },
   {
    "duration": 347,
    "start_time": "2023-05-02T03:42:56.690Z"
   },
   {
    "duration": 7,
    "start_time": "2023-05-02T03:48:24.112Z"
   },
   {
    "duration": 16170,
    "start_time": "2023-05-02T03:49:00.176Z"
   },
   {
    "duration": 22,
    "start_time": "2023-05-02T03:49:35.119Z"
   },
   {
    "duration": 28501,
    "start_time": "2023-05-02T03:52:23.399Z"
   },
   {
    "duration": 117,
    "start_time": "2023-05-02T04:01:04.925Z"
   },
   {
    "duration": 1098,
    "start_time": "2023-05-02T04:01:40.197Z"
   },
   {
    "duration": 42,
    "start_time": "2023-05-02T04:02:46.052Z"
   },
   {
    "duration": 39,
    "start_time": "2023-05-02T04:03:11.233Z"
   },
   {
    "duration": 2106,
    "start_time": "2023-05-02T04:06:05.773Z"
   },
   {
    "duration": 351761,
    "start_time": "2023-05-02T04:07:04.939Z"
   },
   {
    "duration": 52,
    "start_time": "2023-05-02T04:28:37.360Z"
   },
   {
    "duration": 373550,
    "start_time": "2023-05-02T04:28:52.880Z"
   },
   {
    "duration": 3,
    "start_time": "2023-05-02T04:36:35.315Z"
   },
   {
    "duration": 1503,
    "start_time": "2023-05-03T04:18:13.451Z"
   },
   {
    "duration": 942,
    "start_time": "2023-05-03T04:18:15.758Z"
   },
   {
    "duration": 105,
    "start_time": "2023-05-03T04:18:17.423Z"
   },
   {
    "duration": 4,
    "start_time": "2023-05-03T04:18:18.374Z"
   },
   {
    "duration": 41,
    "start_time": "2023-05-03T04:18:19.094Z"
   },
   {
    "duration": 13,
    "start_time": "2023-05-03T04:18:19.551Z"
   },
   {
    "duration": 62,
    "start_time": "2023-05-03T04:18:20.094Z"
   },
   {
    "duration": 64,
    "start_time": "2023-05-03T04:18:20.551Z"
   },
   {
    "duration": 88,
    "start_time": "2023-05-03T04:18:20.966Z"
   },
   {
    "duration": 68,
    "start_time": "2023-05-03T04:18:21.310Z"
   },
   {
    "duration": 17,
    "start_time": "2023-05-03T04:18:21.775Z"
   },
   {
    "duration": 16,
    "start_time": "2023-05-03T04:18:22.165Z"
   },
   {
    "duration": 17,
    "start_time": "2023-05-03T04:18:22.518Z"
   },
   {
    "duration": 33,
    "start_time": "2023-05-03T04:18:22.934Z"
   },
   {
    "duration": 18,
    "start_time": "2023-05-03T04:18:23.558Z"
   },
   {
    "duration": 18,
    "start_time": "2023-05-03T04:18:24.102Z"
   },
   {
    "duration": 15,
    "start_time": "2023-05-03T04:18:24.806Z"
   },
   {
    "duration": 18,
    "start_time": "2023-05-03T04:18:25.190Z"
   },
   {
    "duration": 16,
    "start_time": "2023-05-03T04:18:25.574Z"
   },
   {
    "duration": 17,
    "start_time": "2023-05-03T04:18:25.989Z"
   },
   {
    "duration": 16,
    "start_time": "2023-05-03T04:18:26.510Z"
   },
   {
    "duration": 65,
    "start_time": "2023-05-03T04:18:27.158Z"
   },
   {
    "duration": 54,
    "start_time": "2023-05-03T04:18:27.694Z"
   },
   {
    "duration": 130,
    "start_time": "2023-05-03T04:18:28.037Z"
   },
   {
    "duration": 25,
    "start_time": "2023-05-03T04:18:28.766Z"
   },
   {
    "duration": 5,
    "start_time": "2023-05-03T04:18:29.158Z"
   },
   {
    "duration": 21,
    "start_time": "2023-05-03T04:18:29.630Z"
   },
   {
    "duration": 113,
    "start_time": "2023-05-03T04:18:30.446Z"
   },
   {
    "duration": 119,
    "start_time": "2023-05-03T04:18:31.247Z"
   },
   {
    "duration": 19,
    "start_time": "2023-05-03T04:18:31.926Z"
   },
   {
    "duration": 170,
    "start_time": "2023-05-03T04:18:32.526Z"
   },
   {
    "duration": 134,
    "start_time": "2023-05-03T04:18:33.157Z"
   },
   {
    "duration": 18,
    "start_time": "2023-05-03T04:18:33.574Z"
   },
   {
    "duration": 148,
    "start_time": "2023-05-03T04:18:34.062Z"
   },
   {
    "duration": 44,
    "start_time": "2023-05-03T04:18:34.806Z"
   },
   {
    "duration": 124,
    "start_time": "2023-05-03T04:18:35.333Z"
   },
   {
    "duration": 224,
    "start_time": "2023-05-03T04:18:36.014Z"
   },
   {
    "duration": 425,
    "start_time": "2023-05-03T04:18:37.270Z"
   },
   {
    "duration": 353,
    "start_time": "2023-05-03T04:18:40.261Z"
   },
   {
    "duration": 6,
    "start_time": "2023-05-03T04:18:41.678Z"
   },
   {
    "duration": 13998,
    "start_time": "2023-05-03T04:18:42.894Z"
   },
   {
    "duration": 21,
    "start_time": "2023-05-03T04:18:58.734Z"
   },
   {
    "duration": 15181,
    "start_time": "2023-05-03T04:19:00.116Z"
   },
   {
    "duration": 1006,
    "start_time": "2023-05-03T04:19:16.836Z"
   },
   {
    "duration": 44,
    "start_time": "2023-05-03T04:19:19.381Z"
   },
   {
    "duration": 1945,
    "start_time": "2023-05-03T04:19:20.229Z"
   },
   {
    "duration": 319601,
    "start_time": "2023-05-03T04:19:29.548Z"
   },
   {
    "duration": 45,
    "start_time": "2023-05-03T04:25:11.868Z"
   },
   {
    "duration": 5481,
    "start_time": "2023-05-03T04:25:16.235Z"
   },
   {
    "duration": 7,
    "start_time": "2023-05-03T04:25:43.537Z"
   },
   {
    "duration": 200366,
    "start_time": "2023-05-03T04:25:51.338Z"
   },
   {
    "duration": 14715,
    "start_time": "2023-05-03T04:31:40.481Z"
   },
   {
    "duration": 53,
    "start_time": "2023-05-03T04:32:07.048Z"
   },
   {
    "duration": 283,
    "start_time": "2023-05-03T04:32:21.345Z"
   },
   {
    "duration": 20,
    "start_time": "2023-05-03T04:32:33.031Z"
   },
   {
    "duration": 185803,
    "start_time": "2023-05-03T04:32:41.783Z"
   },
   {
    "duration": 12878,
    "start_time": "2023-05-03T04:36:00.747Z"
   },
   {
    "duration": 4,
    "start_time": "2023-05-03T04:37:31.304Z"
   },
   {
    "duration": 44690,
    "start_time": "2023-05-03T04:37:45.615Z"
   },
   {
    "duration": 3226,
    "start_time": "2023-05-03T04:38:44.701Z"
   },
   {
    "duration": 1014,
    "start_time": "2023-05-03T04:39:22.292Z"
   },
   {
    "duration": 144,
    "start_time": "2023-05-03T04:40:09.859Z"
   },
   {
    "duration": 146,
    "start_time": "2023-05-03T04:40:17.299Z"
   },
   {
    "duration": 149,
    "start_time": "2023-05-03T04:40:34.899Z"
   },
   {
    "duration": 106,
    "start_time": "2023-05-03T04:41:04.922Z"
   },
   {
    "duration": 176,
    "start_time": "2023-05-03T04:41:50.696Z"
   },
   {
    "duration": 1520,
    "start_time": "2023-05-03T04:42:15.960Z"
   },
   {
    "duration": 2624,
    "start_time": "2023-05-03T04:42:57.486Z"
   },
   {
    "duration": 11,
    "start_time": "2023-05-03T04:47:22.256Z"
   },
   {
    "duration": 22194,
    "start_time": "2023-05-03T04:49:27.402Z"
   },
   {
    "duration": 66,
    "start_time": "2023-05-03T04:49:53.739Z"
   },
   {
    "duration": 302,
    "start_time": "2023-05-03T04:50:02.331Z"
   },
   {
    "duration": 20,
    "start_time": "2023-05-03T04:50:09.754Z"
   },
   {
    "duration": 187076,
    "start_time": "2023-05-03T04:50:25.467Z"
   },
   {
    "duration": 12737,
    "start_time": "2023-05-03T04:55:43.810Z"
   },
   {
    "duration": 28856,
    "start_time": "2023-05-03T04:56:02.345Z"
   },
   {
    "duration": 3174,
    "start_time": "2023-05-03T04:57:01.720Z"
   },
   {
    "duration": 1022,
    "start_time": "2023-05-03T04:57:18.575Z"
   },
   {
    "duration": 525,
    "start_time": "2023-05-03T04:57:33.536Z"
   },
   {
    "duration": 21,
    "start_time": "2023-05-03T04:57:48.271Z"
   },
   {
    "duration": 20,
    "start_time": "2023-05-03T04:58:51.605Z"
   },
   {
    "duration": 2510,
    "start_time": "2023-05-07T11:31:24.208Z"
   },
   {
    "duration": 2979,
    "start_time": "2023-05-07T11:31:26.720Z"
   },
   {
    "duration": 106,
    "start_time": "2023-05-07T11:31:29.701Z"
   },
   {
    "duration": 4,
    "start_time": "2023-05-07T11:31:29.809Z"
   },
   {
    "duration": 42,
    "start_time": "2023-05-07T11:31:29.815Z"
   },
   {
    "duration": 14,
    "start_time": "2023-05-07T11:31:29.859Z"
   },
   {
    "duration": 69,
    "start_time": "2023-05-07T11:31:29.875Z"
   },
   {
    "duration": 84,
    "start_time": "2023-05-07T11:31:29.946Z"
   },
   {
    "duration": 107,
    "start_time": "2023-05-07T11:31:30.031Z"
   },
   {
    "duration": 80,
    "start_time": "2023-05-07T11:31:30.139Z"
   },
   {
    "duration": 139,
    "start_time": "2023-05-07T11:31:30.220Z"
   },
   {
    "duration": 77,
    "start_time": "2023-05-07T11:31:30.360Z"
   },
   {
    "duration": 73,
    "start_time": "2023-05-07T11:31:30.438Z"
   },
   {
    "duration": 143,
    "start_time": "2023-05-07T11:31:30.514Z"
   },
   {
    "duration": 29,
    "start_time": "2023-05-07T11:31:30.658Z"
   },
   {
    "duration": 57,
    "start_time": "2023-05-07T11:31:30.689Z"
   },
   {
    "duration": 59,
    "start_time": "2023-05-07T11:31:30.748Z"
   },
   {
    "duration": 142,
    "start_time": "2023-05-07T11:31:30.809Z"
   },
   {
    "duration": 137,
    "start_time": "2023-05-07T11:31:30.952Z"
   },
   {
    "duration": 19,
    "start_time": "2023-05-07T11:31:31.091Z"
   },
   {
    "duration": 183,
    "start_time": "2023-05-07T11:31:31.111Z"
   },
   {
    "duration": 142,
    "start_time": "2023-05-07T11:31:31.295Z"
   },
   {
    "duration": 19,
    "start_time": "2023-05-07T11:31:31.439Z"
   },
   {
    "duration": 138,
    "start_time": "2023-05-07T11:31:31.460Z"
   },
   {
    "duration": 44,
    "start_time": "2023-05-07T11:31:31.599Z"
   },
   {
    "duration": 135,
    "start_time": "2023-05-07T11:31:31.645Z"
   },
   {
    "duration": 221,
    "start_time": "2023-05-07T11:31:31.782Z"
   },
   {
    "duration": 324,
    "start_time": "2023-05-07T11:31:32.004Z"
   },
   {
    "duration": 242,
    "start_time": "2023-05-07T11:31:32.330Z"
   },
   {
    "duration": 10,
    "start_time": "2023-05-07T11:31:32.573Z"
   },
   {
    "duration": 10949,
    "start_time": "2023-05-07T11:31:32.585Z"
   },
   {
    "duration": 19,
    "start_time": "2023-05-07T11:31:43.536Z"
   },
   {
    "duration": 13221,
    "start_time": "2023-05-07T11:31:43.556Z"
   },
   {
    "duration": 820,
    "start_time": "2023-05-07T11:31:56.780Z"
   },
   {
    "duration": 26,
    "start_time": "2023-05-07T11:31:57.601Z"
   },
   {
    "duration": 280394,
    "start_time": "2023-05-07T11:31:57.629Z"
   },
   {
    "duration": 30,
    "start_time": "2023-05-07T11:36:38.025Z"
   },
   {
    "duration": 913254,
    "start_time": "2023-05-07T11:36:38.056Z"
   },
   {
    "duration": 6,
    "start_time": "2023-05-07T11:51:51.372Z"
   },
   {
    "duration": 1990496,
    "start_time": "2023-05-07T11:51:51.379Z"
   },
   {
    "duration": 12302,
    "start_time": "2023-05-07T12:25:01.878Z"
   },
   {
    "duration": 103,
    "start_time": "2023-05-07T12:25:14.272Z"
   },
   {
    "duration": 162549,
    "start_time": "2023-05-07T12:25:14.376Z"
   },
   {
    "duration": 11302,
    "start_time": "2023-05-07T12:27:56.926Z"
   },
   {
    "duration": 8646,
    "start_time": "2023-05-07T12:28:08.229Z"
   },
   {
    "duration": 2996,
    "start_time": "2023-05-07T12:28:16.876Z"
   },
   {
    "duration": 1007,
    "start_time": "2023-05-07T12:28:19.875Z"
   },
   {
    "duration": 91,
    "start_time": "2023-05-07T12:28:20.884Z"
   },
   {
    "duration": 22,
    "start_time": "2023-05-07T15:13:33.030Z"
   }
  ],
  "kernelspec": {
   "display_name": "Python 3 (ipykernel)",
   "language": "python",
   "name": "python3"
  },
  "language_info": {
   "codemirror_mode": {
    "name": "ipython",
    "version": 3
   },
   "file_extension": ".py",
   "mimetype": "text/x-python",
   "name": "python",
   "nbconvert_exporter": "python",
   "pygments_lexer": "ipython3",
   "version": "3.9.13"
  },
  "toc": {
   "base_numbering": 1,
   "nav_menu": {},
   "number_sections": true,
   "sideBar": true,
   "skip_h1_title": true,
   "title_cell": "Table of Contents",
   "title_sidebar": "Contents",
   "toc_cell": false,
   "toc_position": {},
   "toc_section_display": true,
   "toc_window_display": true
  }
 },
 "nbformat": 4,
 "nbformat_minor": 2
}
